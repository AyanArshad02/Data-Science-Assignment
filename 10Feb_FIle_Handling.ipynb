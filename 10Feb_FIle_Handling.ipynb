{
 "cells": [
  {
   "cell_type": "code",
   "execution_count": null,
   "id": "df51201a-bb82-46e4-b582-fe82d9bbad76",
   "metadata": {},
   "outputs": [],
   "source": [
    "\"\"\"\n",
    "Q1. Which function is used to open a file? What are the different modes of opening a file? Explain each mode\n",
    "of file opening.\n",
    "\"\"\"\n",
    "# ANS: To open a file we use open() function which takes 2 arguments \n",
    "# 1st argument is file name and 2nd argument is the mode in which we want to open our file\n",
    "\n",
    "# Modes of opening a file:\n",
    "# 'w' : write modes helps us in writting into a file and it erases all the previous content of file\n",
    "# 'a' : append mode is also used for writting but whatever we write gets appended to our file without deleting previous content\n",
    "# 'r' : read mode is used when we want to read our file data"
   ]
  },
  {
   "cell_type": "code",
   "execution_count": null,
   "id": "35ef9035-d620-4fac-93d2-db1ac0fdd768",
   "metadata": {},
   "outputs": [],
   "source": [
    "\"\"\"\n",
    "Q2. Why close() function is used? Why is it important to close a file?\n",
    "\"\"\"\n",
    "# ANS: close() function is used to close our file and it is important because whatever operations we do on file is not reflected until we close our file"
   ]
  },
  {
   "cell_type": "code",
   "execution_count": 2,
   "id": "d6cd0b82-3e23-4ad0-8542-be0a71abc188",
   "metadata": {},
   "outputs": [
    {
     "name": "stdout",
     "output_type": "stream",
     "text": [
      "I want to become a Data Scientist\n"
     ]
    }
   ],
   "source": [
    "\"\"\"\n",
    "Q3. Write a python program to create a text file. Write ‘I want to become a Data Scientist’ in that file. Then\n",
    "close the file. Open this file and read the content of the file.\n",
    "\"\"\"\n",
    "\n",
    "with open(\"text_file.txt\", \"w\") as f:\n",
    "    f.write(\"I want to become a Data Scientist\")\n",
    "    f.close()\n",
    "\n",
    "f = open(\"text_file.txt\",\"r\")\n",
    "print(f.read())"
   ]
  },
  {
   "cell_type": "code",
   "execution_count": 21,
   "id": "76888214-e4d1-46ee-aeb2-99bce1d89d8b",
   "metadata": {},
   "outputs": [
    {
     "name": "stdout",
     "output_type": "stream",
     "text": [
      "USING read() METHOD TO READ A FILE: read() function reads entire content of a file and return it as a string \n",
      "readline() function read single line of a file and return it as a string \n",
      "readlines() function read entire content of a file and return it as a list of string, where each element is a line from a file\n",
      "USING readline() MEHTOD TO READ A LINE FROM A FILE: read() function reads entire content of a file and return it as a string \n",
      "\n",
      "USING readlines() METHOD TO READ AN ENTIRE LINE AND STORE EACH LINE AS AN ELEMENT OF A STRING: ['read() function reads entire content of a file and return it as a string \\n', 'readline() function read single line of a file and return it as a string \\n', 'readlines() function read entire content of a file and return it as a list of string, where each element is a line from a file']\n"
     ]
    }
   ],
   "source": [
    "\"\"\"\n",
    "Q4. Explain the following with python code: read(), readline() and readlines().\n",
    "\"\"\"\n",
    "with open(\"file_explain.txt\",\"w\") as f:\n",
    "    f.write(\"read() function reads entire content of a file and return it as a string \\nreadline() function read single line of a file and return it as a string \\nreadlines() function read entire content of a file and return it as a list of string, where each element is a line from a file\")\n",
    "\n",
    "a = open(\"file_explain.txt\", \"r\")\n",
    "print(\"USING read() METHOD TO READ A FILE:\",a.read())\n",
    "a.close()\n",
    "\n",
    "b = open(\"file_explain.txt\", \"r\")\n",
    "print(\"USING readline() MEHTOD TO READ A LINE FROM A FILE:\",b.readline())\n",
    "b.close()\n",
    "\n",
    "c = open(\"file_explain.txt\", \"r\")\n",
    "print(\"USING readlines() METHOD TO READ AN ENTIRE LINE AND STORE EACH LINE AS AN ELEMENT OF A STRING:\",c.readlines())\n",
    "c.close()"
   ]
  },
  {
   "cell_type": "code",
   "execution_count": null,
   "id": "ebfb064f-d78b-453d-9fb0-e2c51cb9315c",
   "metadata": {},
   "outputs": [],
   "source": [
    "\"\"\"\n",
    "Q5. Explain why with statement is used with open(). What is the advantage of using with statement and\n",
    "open() together?\n",
    "\"\"\"\n",
    "# ANS: By using with open() function we don't need to close a file as with open() function closes a file after every operation"
   ]
  },
  {
   "cell_type": "code",
   "execution_count": 23,
   "id": "03d35806-0c29-4899-aff4-b22fb5f4dc79",
   "metadata": {},
   "outputs": [
    {
     "name": "stdout",
     "output_type": "stream",
     "text": [
      "My name is Ayan \n",
      "I am studying at IIT Madras \n",
      "I am passionate about Data Science\n"
     ]
    }
   ],
   "source": [
    "\"\"\"\n",
    "Q6. Explain the write() and writelines() functions. Give a suitable example.\n",
    "\"\"\"\n",
    "# write() function is used when we want to write into a flie\n",
    "# writelines() function is used to write content of a list into a file\n",
    "\n",
    "with open(\"file1.txt\", \"w\") as f:\n",
    "    f.write(\"We are writting this using write function\")\n",
    "\n",
    "list_1 = [\"My name is Ayan \\n\",\"I am studying at IIT Madras \\n\",\"I am passionate about Data Science\"]\n",
    "with open(\"file2.txt\", \"w\") as f:\n",
    "    f.writelines(list_1)\n",
    "    \n",
    "with open(\"file2.txt\", \"r\") as f:\n",
    "    print(f.read())"
   ]
  }
 ],
 "metadata": {
  "kernelspec": {
   "display_name": "Python 3 (ipykernel)",
   "language": "python",
   "name": "python3"
  },
  "language_info": {
   "codemirror_mode": {
    "name": "ipython",
    "version": 3
   },
   "file_extension": ".py",
   "mimetype": "text/x-python",
   "name": "python",
   "nbconvert_exporter": "python",
   "pygments_lexer": "ipython3",
   "version": "3.10.8"
  }
 },
 "nbformat": 4,
 "nbformat_minor": 5
}
