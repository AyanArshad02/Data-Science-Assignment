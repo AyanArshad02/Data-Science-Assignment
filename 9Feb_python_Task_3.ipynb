{
 "cells": [
  {
   "cell_type": "code",
   "execution_count": 6,
   "id": "0b540eef-9d77-4233-a506-fd32080ec730",
   "metadata": {},
   "outputs": [],
   "source": [
    "\"\"\" Q1, Create a vehicle class with an init method having instance variables as name_of_vehicle, max_speed\n",
    "    and average_of_vehicle.\"\"\"\n",
    "\n",
    "\n",
    "class vehicle():\n",
    "    def __init__(self, name_of_vehicle, max_speed, avg_of_vehicle):\n",
    "        self.name_of_vehicle = name_of_vehicle\n",
    "        self.max_speed = max_speed\n",
    "        self.avg_of_vehicle = avg_of_vehicle\n",
    "        \n",
    "    def return_vehicle_details(self):\n",
    "        return self.name_of_vehicle, self.max_speed, self.avg_of_vehicle\n",
    "    \n",
    "vehicle1 = vehicle(\"Mercedes\",240,20)"
   ]
  },
  {
   "cell_type": "code",
   "execution_count": 7,
   "id": "b0b74d14-71a1-46c7-a251-e53fff5f381c",
   "metadata": {},
   "outputs": [
    {
     "data": {
      "text/plain": [
       "('Mercedes', 240, 20)"
      ]
     },
     "execution_count": 7,
     "metadata": {},
     "output_type": "execute_result"
    }
   ],
   "source": [
    "vehicle1.return_vehicle_details()"
   ]
  },
  {
   "cell_type": "code",
   "execution_count": 30,
   "id": "7bed6141-0cc8-43f8-a83c-444cd9e06b4f",
   "metadata": {},
   "outputs": [],
   "source": [
    "\"\"\"Q2. Create a child class car from the vehicle class created in Que 1, which will inherit the vehicle class.\n",
    "Create a method named seating_capacity which takes capacity as an argument and returns the name of\n",
    "the vehicle and its seating capacity.\n",
    "\"\"\"\n",
    "\n",
    "class car(vehicle):\n",
    "    \n",
    "    def __init__(self,capacity):\n",
    "        # self.name_of_vehicle = name_of_vehicle\n",
    "        self.capacity = capacity\n",
    "    \n",
    "#     def seating_capacity(self,capacity):\n",
    "#         self.capacity = capacity\n",
    "        \n",
    "    def return_car_details(self, name_of_vehicle, capacity):\n",
    "        return self.name_of_vehicle, self.capacity"
   ]
  },
  {
   "cell_type": "code",
   "execution_count": 32,
   "id": "5ff4eb49-d6fc-4e29-92b9-56797c15df7b",
   "metadata": {},
   "outputs": [
    {
     "ename": "AttributeError",
     "evalue": "'car' object has no attribute 'name_of_vehicle'",
     "output_type": "error",
     "traceback": [
      "\u001b[0;31m---------------------------------------------------------------------------\u001b[0m",
      "\u001b[0;31mAttributeError\u001b[0m                            Traceback (most recent call last)",
      "Cell \u001b[0;32mIn[32], line 4\u001b[0m\n\u001b[1;32m      1\u001b[0m \u001b[38;5;66;03m# mercedes = car.return_car_details(\"mercedes\",5)\u001b[39;00m\n\u001b[1;32m      2\u001b[0m \u001b[38;5;66;03m# mercedes.name_of_vehicle(\"Mercedes\")\u001b[39;00m\n\u001b[1;32m      3\u001b[0m car_obj \u001b[38;5;241m=\u001b[39m car(\u001b[38;5;241m5\u001b[39m)\n\u001b[0;32m----> 4\u001b[0m \u001b[43mcar_obj\u001b[49m\u001b[38;5;241;43m.\u001b[39;49m\u001b[43mreturn_car_details\u001b[49m\u001b[43m(\u001b[49m\u001b[38;5;124;43m\"\u001b[39;49m\u001b[38;5;124;43mMercedes\u001b[39;49m\u001b[38;5;124;43m\"\u001b[39;49m\u001b[43m,\u001b[49m\u001b[38;5;241;43m5\u001b[39;49m\u001b[43m)\u001b[49m\n",
      "Cell \u001b[0;32mIn[30], line 16\u001b[0m, in \u001b[0;36mcar.return_car_details\u001b[0;34m(self, name_of_vehicle, capacity)\u001b[0m\n\u001b[1;32m     15\u001b[0m \u001b[38;5;28;01mdef\u001b[39;00m \u001b[38;5;21mreturn_car_details\u001b[39m(\u001b[38;5;28mself\u001b[39m, name_of_vehicle, capacity):\n\u001b[0;32m---> 16\u001b[0m     \u001b[38;5;28;01mreturn\u001b[39;00m \u001b[38;5;28;43mself\u001b[39;49m\u001b[38;5;241;43m.\u001b[39;49m\u001b[43mname_of_vehicle\u001b[49m, \u001b[38;5;28mself\u001b[39m\u001b[38;5;241m.\u001b[39mcapacity\n",
      "\u001b[0;31mAttributeError\u001b[0m: 'car' object has no attribute 'name_of_vehicle'"
     ]
    }
   ],
   "source": [
    "# mercedes = car.return_car_details(\"mercedes\",5)\n",
    "# mercedes.name_of_vehicle(\"Mercedes\")\n",
    "car_obj = car(5)\n",
    "car_obj.return_car_details(\"Mercedes\",5)"
   ]
  },
  {
   "cell_type": "code",
   "execution_count": 36,
   "id": "2fd55dc5-7fc7-4853-9ba3-e766ac22ac3a",
   "metadata": {},
   "outputs": [
    {
     "data": {
      "text/plain": [
       "'This is a method from class 2'"
      ]
     },
     "execution_count": 36,
     "metadata": {},
     "output_type": "execute_result"
    }
   ],
   "source": [
    "\"\"\"Q3. What is multiple inheritance? Write a python code to demonstrate multiple inheritance.\"\"\"\n",
    "\n",
    "# In multiple inheritance, we inherit properties of multiple class into a single class\n",
    "\n",
    "class class1():\n",
    "    def test1(self):\n",
    "        return \"This is a method from class 1\"\n",
    "    \n",
    "class class2(class1):\n",
    "    def test2(self):\n",
    "        return \"This is a method from class 2\"\n",
    "    \n",
    "class class3(class2):\n",
    "    def test3(self):\n",
    "        return \"This is a method from class 3\"\n",
    "    \n",
    "obj_class3 = class3()\n",
    "obj_class3.test2()"
   ]
  },
  {
   "cell_type": "code",
   "execution_count": 13,
   "id": "c4b5b5ff-c976-490f-b6c9-856ef2635e72",
   "metadata": {},
   "outputs": [],
   "source": [
    "\"\"\" Q4. What are getter and setter in python? Create a class and create a getter and a setter method in this\n",
    "    class.\"\"\"\n",
    "class car:\n",
    "    \n",
    "    def __init__(self,speed):\n",
    "        self.__speed = speed\n",
    "        \n",
    "    def set_speed(self,speed):\n",
    "        self.__speed = 0 if speed < 0 else speed\n",
    "        \n",
    "    def get_speed(self):\n",
    "        return self.__speed"
   ]
  },
  {
   "cell_type": "code",
   "execution_count": 14,
   "id": "530018f9-334f-4961-9225-83c082127634",
   "metadata": {},
   "outputs": [],
   "source": [
    "car_obj = car(70)"
   ]
  },
  {
   "cell_type": "code",
   "execution_count": 18,
   "id": "f4fd4450-259b-40e4-93df-6617ac2887f9",
   "metadata": {},
   "outputs": [],
   "source": [
    "car_obj.set_speed(233)"
   ]
  },
  {
   "cell_type": "code",
   "execution_count": 19,
   "id": "38fd2832-c693-432a-9948-1a362fa4e487",
   "metadata": {},
   "outputs": [
    {
     "name": "stdout",
     "output_type": "stream",
     "text": [
      "233\n"
     ]
    }
   ],
   "source": [
    "print(car_obj.get_speed())"
   ]
  },
  {
   "cell_type": "code",
   "execution_count": 3,
   "id": "506d4b93-ebf6-4008-95fe-52fd5d49119b",
   "metadata": {},
   "outputs": [],
   "source": [
    "\"\"\"\n",
    "Q5.What is method overriding in python? Write a python code to demonstrate method overriding.\n",
    "\"\"\"\n",
    "import abc\n",
    "class car:\n",
    "    \n",
    "    @abc.abstractmethod\n",
    "    def car_name(self, name):\n",
    "        pass"
   ]
  },
  {
   "cell_type": "code",
   "execution_count": 17,
   "id": "597cae84-8867-483a-8cbb-f3c71dfa50c8",
   "metadata": {},
   "outputs": [],
   "source": [
    "class car1(car):\n",
    "    \n",
    "    def car_name(self, name):\n",
    "        self.name = name\n",
    "        \n",
    "    def return_name(self):\n",
    "        return f\"Car 1 name is {self.name}\""
   ]
  },
  {
   "cell_type": "code",
   "execution_count": 18,
   "id": "a5df911c-75af-440a-8439-497c507dd81a",
   "metadata": {},
   "outputs": [],
   "source": [
    "class car2(car):\n",
    "    \n",
    "    def car_name(self,name):\n",
    "        self.name = name\n",
    "        \n",
    "    def return_name(self,name):\n",
    "        return f\"Car 2 name is {self.name}\""
   ]
  },
  {
   "cell_type": "code",
   "execution_count": 19,
   "id": "0ca8ece2-ac61-49f1-8933-c6b69ee1a5ac",
   "metadata": {},
   "outputs": [],
   "source": [
    "car1_obj = car1()"
   ]
  },
  {
   "cell_type": "code",
   "execution_count": 20,
   "id": "5e45e93c-6b65-4b7b-8c11-04902dcf6cd1",
   "metadata": {},
   "outputs": [],
   "source": [
    "car1_obj.car_name(\"Range Rover\")"
   ]
  },
  {
   "cell_type": "code",
   "execution_count": 21,
   "id": "0b1eb33f-e9db-4205-8b5e-94a505142dd1",
   "metadata": {},
   "outputs": [
    {
     "data": {
      "text/plain": [
       "'Car 1 name is Range Rover'"
      ]
     },
     "execution_count": 21,
     "metadata": {},
     "output_type": "execute_result"
    }
   ],
   "source": [
    "car1_obj.return_name()"
   ]
  }
 ],
 "metadata": {
  "kernelspec": {
   "display_name": "Python 3 (ipykernel)",
   "language": "python",
   "name": "python3"
  },
  "language_info": {
   "codemirror_mode": {
    "name": "ipython",
    "version": 3
   },
   "file_extension": ".py",
   "mimetype": "text/x-python",
   "name": "python",
   "nbconvert_exporter": "python",
   "pygments_lexer": "ipython3",
   "version": "3.10.8"
  }
 },
 "nbformat": 4,
 "nbformat_minor": 5
}
