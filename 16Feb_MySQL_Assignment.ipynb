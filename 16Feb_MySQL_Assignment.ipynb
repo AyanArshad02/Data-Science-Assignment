{
 "cells": [
  {
   "cell_type": "code",
   "execution_count": null,
   "id": "1f5a5a35-91fc-47c6-a061-8693b73582ba",
   "metadata": {},
   "outputs": [],
   "source": [
    "\"Q1. What is a database? Differentiate between SQL and NoSQL databases.\"\n",
    "# A database is an organised collection of structured information or data, stored electronically in computer system\n",
    "# SQL: relational database \n",
    "# NoSQL: Non-Relational or distributed database\n",
    "# SQL: These databases have fixed or static or predefined schema\n",
    "# NoSQL: They have a dynamic schema"
   ]
  },
  {
   "cell_type": "code",
   "execution_count": null,
   "id": "5c8f4192-250c-4f90-b2ab-2757db23a78f",
   "metadata": {},
   "outputs": [],
   "source": [
    "\"Q2. What is DDL? Explain why CREATE, DROP, ALTER, and TRUNCATE are used with an example.\"\n",
    "# DDL is Data Defination Language. And it is a set of SQL instructions used to describe the database schema.\n",
    "# CREATE: It is used in the creation of the database and includes items or objects, such as a table, views, index, or/and stored procedure function, and triggers.\n",
    "# DROP: It is used in removing objects from any database.\n",
    "# ALTER: This can be utilized to change the database’s design or structure.\n",
    "# TRUNCATE: This command can be employed to eliminate all records or entries from a table, along with all allotted spaces for those items."
   ]
  },
  {
   "cell_type": "code",
   "execution_count": null,
   "id": "e1275e85-f116-47ae-aee1-b48cf7f8f07d",
   "metadata": {},
   "outputs": [],
   "source": [
    "\"Q3. What is DML? Explain INSERT, UPDATE, and DELETE with an example.\"\n",
    "# DML is Data Manipulation Language. DML refers to SQL instructions that deal with the alteration of information stored within a database, which constitutes the majority of SQL queries.\n",
    "# INSERT: This command inserts data into an existing table.\n",
    "# UPDATE: This command is employed in updating the existing data in a table.\n",
    "# DELETE: This command is used to remove records from a database table."
   ]
  },
  {
   "cell_type": "code",
   "execution_count": null,
   "id": "64aba5ca-c650-4deb-b3d2-535d44175a64",
   "metadata": {},
   "outputs": [],
   "source": [
    "\"Q4. What is DQL? Explain SELECT with an example.\"\n",
    "# DQL is Data Query Language. \n",
    "# SELECT statement allows to extract data from database."
   ]
  },
  {
   "cell_type": "code",
   "execution_count": null,
   "id": "0014b55b-8285-42c5-b8e4-984d291790c6",
   "metadata": {},
   "outputs": [],
   "source": [
    "\"Q5. Explain Primary Key and Foreign Key.\"\n",
    "# The primary key in SQL is a single, or a group of fields or columns that can uniquely identify a row in a table.\n",
    "# A FOREIGN KEY is a field (or collection of fields) in one table, that refers to the PRIMARY KEY in another table."
   ]
  },
  {
   "cell_type": "code",
   "execution_count": null,
   "id": "3892fcf1-b816-4998-b658-4ae9cec5d332",
   "metadata": {},
   "outputs": [],
   "source": [
    "\"Q6. Write a python code to connect MySQL to python. Explain the cursor() and execute() method.\"\n",
    "import mysql.connector\n",
    "\n",
    "mydb = mysql.connector.connect(\n",
    "    host = \"localhost\",\n",
    "    user = \"abc\",\n",
    "    password = \"password\"\n",
    ")\n",
    "mycursor = mydb.cursor()\n",
    "mycursor.execute(\"CREATE DATABASE if not exists student\")\n",
    "mydb.close()\n",
    "\n",
    "# cursor(): a cursor encapsulates SQL query and returning results\n",
    "# execute(): It is used to execute stored procedures and query strings in database servers."
   ]
  },
  {
   "cell_type": "code",
   "execution_count": null,
   "id": "0b10fa4a-ef2a-4981-b366-da01f6ca1fe9",
   "metadata": {},
   "outputs": [],
   "source": [
    "\"Q7. Give the order of execution of SQL clauses in an SQL query.\"\n",
    "# Order of execution of SQL clauses in an SQL query are:\n",
    "# 1. FROM\n",
    "# 2. WHERE\n",
    "# 3. GROUP BY\n",
    "# 4. HAVING\n",
    "# 5. SELECT\n",
    "$"
   ]
  }
 ],
 "metadata": {
  "kernelspec": {
   "display_name": "Python 3 (ipykernel)",
   "language": "python",
   "name": "python3"
  },
  "language_info": {
   "codemirror_mode": {
    "name": "ipython",
    "version": 3
   },
   "file_extension": ".py",
   "mimetype": "text/x-python",
   "name": "python",
   "nbconvert_exporter": "python",
   "pygments_lexer": "ipython3",
   "version": "3.10.8"
  }
 },
 "nbformat": 4,
 "nbformat_minor": 5
}
