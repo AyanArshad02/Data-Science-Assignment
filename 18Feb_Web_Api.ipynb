{
 "cells": [
  {
   "cell_type": "code",
   "execution_count": null,
   "id": "700c1e21-3c58-4d3b-86d5-eec4d74dc8a6",
   "metadata": {},
   "outputs": [],
   "source": [
    "\"Q1. What is an API? Give an example, where an API is used in real life.\"\n",
    "# API stands for Application Programming Interface. It allows two applications to talk to each other.\n",
    "# APIs are used to deliver material by streaming services such as Spotify and Netflix."
   ]
  },
  {
   "cell_type": "code",
   "execution_count": null,
   "id": "b30cb2f5-1129-42d9-b29d-48e11d6b161f",
   "metadata": {},
   "outputs": [],
   "source": [
    "\"Q2. Give advantages and disadvantages of using API.\"\n",
    "# Advantages: Better User Experience and Improved Efficiency\n",
    "# Disadvantages: Security concerns and Dependency on third party developers"
   ]
  },
  {
   "cell_type": "code",
   "execution_count": null,
   "id": "da3ec8e6-efd0-43ba-b6df-2afc80883226",
   "metadata": {},
   "outputs": [],
   "source": [
    "\"Q3. What is a Web API? Differentiate between API and Web API.\"\n",
    "# Web API is a framework for building HTTP based services that can be accessed in different application on different platforms\n",
    "# API is an interface that exposes an application's data to outside software, whereas web applications are one type of API with stricter requirements"
   ]
  },
  {
   "cell_type": "code",
   "execution_count": null,
   "id": "7931ded8-b706-463d-a870-eeeef7ce0d20",
   "metadata": {},
   "outputs": [],
   "source": [
    "\"Q4. Explain REST and SOAP Architecture. Mention shortcomings of SOAP.\"\n",
    "# REST stands for Representational State Transfer. A Restful system consists of a:\n",
    "# -client who requests for the resources.\n",
    "# -server who has the resources.\n",
    "\n",
    "# SOAP stands for Simple Object Access Protocol. SOAP works with XML data format only"
   ]
  },
  {
   "cell_type": "code",
   "execution_count": null,
   "id": "415b7aee-cfbf-4848-9f64-e9e35e54d2e6",
   "metadata": {},
   "outputs": [],
   "source": [
    "\"Q5. Differentiate between REST and SOAP.\"\n",
    "# REST is a set of guidelines that offers flexible implementation, whereas SOAP is a protocol with specific requirements like XML messaging."
   ]
  }
 ],
 "metadata": {
  "kernelspec": {
   "display_name": "Python 3 (ipykernel)",
   "language": "python",
   "name": "python3"
  },
  "language_info": {
   "codemirror_mode": {
    "name": "ipython",
    "version": 3
   },
   "file_extension": ".py",
   "mimetype": "text/x-python",
   "name": "python",
   "nbconvert_exporter": "python",
   "pygments_lexer": "ipython3",
   "version": "3.10.8"
  }
 },
 "nbformat": 4,
 "nbformat_minor": 5
}
