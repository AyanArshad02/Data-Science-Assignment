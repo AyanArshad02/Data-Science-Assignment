{
 "cells": [
  {
   "cell_type": "code",
   "execution_count": 3,
   "id": "09284565-3734-47ae-b03a-4285c56896f8",
   "metadata": {},
   "outputs": [
    {
     "name": "stdin",
     "output_type": "stream",
     "text": [
      "Enter your percentage: 91\n"
     ]
    },
    {
     "name": "stdout",
     "output_type": "stream",
     "text": [
      "your grade is: A\n"
     ]
    }
   ],
   "source": [
    "# 1. Write a program to accept percentage from user and print grade according to it\n",
    "\n",
    "percentage = int(input(\"Enter your percentage:\"))\n",
    "if percentage > 90 and percentage <= 100:\n",
    "    print(\"your grade is: A\")\n",
    "elif percentage > 80 and percentage <= 90:\n",
    "    print(\"your grade is: B\")\n",
    "elif percentage >= 60 and percentage <= 80:\n",
    "    print(\"your grade is: C\")\n",
    "elif perccp_bikeage < 60:\n",
    "    print(\"your grade is: D\")\n",
    "else:\n",
    "    print(\"Invalid Input\")"
   ]
  },
  {
   "cell_type": "code",
   "execution_count": 4,
   "id": "48620a9f-1a02-4ef8-90ff-49f1c7dd64a6",
   "metadata": {},
   "outputs": [
    {
     "name": "stdin",
     "output_type": "stream",
     "text": [
      "Enter the cost price of your bike: 80000\n"
     ]
    },
    {
     "name": "stdout",
     "output_type": "stream",
     "text": [
      "You need to pay 10% of your bike cost price as a Road Tax\n"
     ]
    }
   ],
   "source": [
    "# 2. Write a program to accept the cost price of the bike and display the road tax to be paid\n",
    "\n",
    "cp_bike = int(input(\"Enter the cost price of your bike:\"))\n",
    "if cp_bike > 100000:\n",
    "    print(\"You need to pay 15% of your bike cost price as a Road Tax\")\n",
    "elif cp_bike > 50000 and cp_bike <= 100000:\n",
    "    print(\"You need to pay 10% of your bike cost price as a Road Tax\")\n",
    "elif cp_bike <= 50000:\n",
    "    print(\"You need to pay 5% of your bike cost price as a Road Tax\")   "
   ]
  },
  {
   "cell_type": "code",
   "execution_count": 9,
   "id": "5e4a11dc-7f39-4dd5-b466-f24f3feb32be",
   "metadata": {},
   "outputs": [
    {
     "name": "stdout",
     "output_type": "stream",
     "text": [
      "List of cities you can choose:\n",
      "1.Delhi\n",
      "2.Agra\n",
      "3.Jaipur\n"
     ]
    },
    {
     "name": "stdin",
     "output_type": "stream",
     "text": [
      "Enter city name to view monument from that city: Delhi\n"
     ]
    },
    {
     "name": "stdout",
     "output_type": "stream",
     "text": [
      "Monument present in this city is Red Fort\n"
     ]
    }
   ],
   "source": [
    "# 3. Accept any city from user and display monument from that city\n",
    "\n",
    "print(\"List of cities you can choose:\\n1.Delhi\\n2.Agra\\n3.Jaipur\")\n",
    "city = input(\"Enter city name to view monument from that city:\")\n",
    "if city == \"Delhi\" or city == \"delhi\":\n",
    "    print(\"Monument present in Delhi is Red Fort\")\n",
    "if city == \"Agra\" or city == \"agra\":\n",
    "    print(\"Monument present in Agra is Taj Mahal\")\n",
    "if city == \"Jaipur\" or city == \"jaipur\":\n",
    "    print(\"Monument present in Jaipur is Jal Mahal\")"
   ]
  },
  {
   "cell_type": "code",
   "execution_count": 11,
   "id": "b9ce958e-7351-4ea8-adbd-6f001bc46a9c",
   "metadata": {},
   "outputs": [
    {
     "name": "stdin",
     "output_type": "stream",
     "text": [
      "Enter number: 99\n"
     ]
    },
    {
     "name": "stdout",
     "output_type": "stream",
     "text": [
      "The number you entered can be divided by 3, 2 times before it is <= 10\n"
     ]
    }
   ],
   "source": [
    "# 4. Check how many times a given number can be divided by 3 before it is <= 10\n",
    "\n",
    "num = int(input(\"Enter number:\"))\n",
    "count = 0\n",
    "while(num >= 10):\n",
    "    temp = num/3\n",
    "    num = temp\n",
    "    count = count + 1\n",
    "print(f\"The number you entered can be divided by 3, {count-1} times before it is <= 10\")    "
   ]
  },
  {
   "cell_type": "code",
   "execution_count": 1,
   "id": "a83ba68a-7537-48c7-bd4d-7c4a4ccd48ad",
   "metadata": {},
   "outputs": [
    {
     "data": {
      "text/plain": [
       "'\\nwe can use while loop when we want to execute same set of code until conditions become true.\\n'"
      ]
     },
     "execution_count": 1,
     "metadata": {},
     "output_type": "execute_result"
    }
   ],
   "source": [
    "# 5. Why and when to use while loop in python\n",
    "\"\"\"\n",
    "we can use while loop when we want to execute same set of code until conditions become true.\n",
    "\"\"\""
   ]
  },
  {
   "cell_type": "code",
   "execution_count": 2,
   "id": "b4c3a142-9775-4910-8387-debff5682bb9",
   "metadata": {},
   "outputs": [],
   "source": [
    "# 6. Use nested while loop to print 3 different pattern\n",
    "a = 3\n",
    "while(True):\n",
    "    print(\"*****\\n****\\n***\\n**\\n*\")\n",
    "    while(True):\n",
    "        print(\"*\\n**\\n***\\n****\\n*****\")\n",
    "        while(True):\n",
    "            print(\"#\\n##\\n###\\n\")\n",
    "            "
   ]
  },
  {
   "cell_type": "code",
   "execution_count": 3,
   "id": "aa759add-57d5-48da-9a8c-68b45de7c770",
   "metadata": {},
   "outputs": [
    {
     "name": "stdout",
     "output_type": "stream",
     "text": [
      "10\n",
      "9\n",
      "8\n",
      "7\n",
      "6\n",
      "5\n",
      "4\n",
      "3\n",
      "2\n",
      "1\n"
     ]
    }
   ],
   "source": [
    "# 7. reverse a while loop to display number from 10 to 1\n",
    "\n",
    "a = 10\n",
    "while(a > 0):\n",
    "    print(a)\n",
    "    a = a - 1"
   ]
  },
  {
   "cell_type": "code",
   "execution_count": 4,
   "id": "980f804e-95ed-4c14-b44f-b80a742d2c0b",
   "metadata": {},
   "outputs": [
    {
     "name": "stdout",
     "output_type": "stream",
     "text": [
      "10\n",
      "9\n",
      "8\n",
      "7\n",
      "6\n",
      "5\n",
      "4\n",
      "3\n",
      "2\n",
      "1\n"
     ]
    }
   ],
   "source": [
    "# 8. reverse a while loop to display number from 10 to 1\n",
    "\n",
    "a = 10 \n",
    "while a > 0:\n",
    "    print(a)\n",
    "    a = a - 1"
   ]
  },
  {
   "cell_type": "code",
   "execution_count": null,
   "id": "74d917af-89b6-4489-9762-4cf40356a8e4",
   "metadata": {},
   "outputs": [],
   "source": []
  }
 ],
 "metadata": {
  "kernelspec": {
   "display_name": "Python 3 (ipykernel)",
   "language": "python",
   "name": "python3"
  },
  "language_info": {
   "codemirror_mode": {
    "name": "ipython",
    "version": 3
   },
   "file_extension": ".py",
   "mimetype": "text/x-python",
   "name": "python",
   "nbconvert_exporter": "python",
   "pygments_lexer": "ipython3",
   "version": "3.10.8"
  }
 },
 "nbformat": 4,
 "nbformat_minor": 5
}
