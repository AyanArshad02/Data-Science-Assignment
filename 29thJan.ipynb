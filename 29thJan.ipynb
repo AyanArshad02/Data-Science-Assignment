{
 "cells": [
  {
   "cell_type": "code",
   "execution_count": 1,
   "id": "2777c036-0004-42f4-8aca-c91c07a36498",
   "metadata": {},
   "outputs": [
    {
     "ename": "SyntaxError",
     "evalue": "invalid syntax (2026400541.py, line 1)",
     "output_type": "error",
     "traceback": [
      "\u001b[0;36m  Cell \u001b[0;32mIn[1], line 1\u001b[0;36m\u001b[0m\n\u001b[0;31m    1. Guido van rossum\u001b[0m\n\u001b[0m       ^\u001b[0m\n\u001b[0;31mSyntaxError\u001b[0m\u001b[0;31m:\u001b[0m invalid syntax\n"
     ]
    }
   ],
   "source": [
    "# 29th Assingment\n",
    "\n",
    "\"\"\"\n",
    "1. Guido van rossum\n",
    "2. object oriented programming and structured programming\n",
    "3. yes\n",
    "4. .py extension is the correct extension of the python file\n",
    "5. python code is interpreted\n",
    "6. identation \n",
    "7. # is used for single line comment\n",
    "8. python_version()\n",
    "9. lambda\n",
    "10. preffered installer program\n",
    "11. some built in functions in python are: union(), isalnum(), print() etc.\n",
    "12. 79 characters\n",
    "13. it is easy to learn and it is widely used in the field of data science \n",
    "14. Memory management in Python involves a private heap containing all Python objects and data structures\n",
    "15. \n",
    "16. Yes, indentation is required in python\n",
    "\"\"\""
   ]
  }
 ],
 "metadata": {
  "kernelspec": {
   "display_name": "Python 3 (ipykernel)",
   "language": "python",
   "name": "python3"
  },
  "language_info": {
   "codemirror_mode": {
    "name": "ipython",
    "version": 3
   },
   "file_extension": ".py",
   "mimetype": "text/x-python",
   "name": "python",
   "nbconvert_exporter": "python",
   "pygments_lexer": "ipython3",
   "version": "3.10.8"
  }
 },
 "nbformat": 4,
 "nbformat_minor": 5
}
