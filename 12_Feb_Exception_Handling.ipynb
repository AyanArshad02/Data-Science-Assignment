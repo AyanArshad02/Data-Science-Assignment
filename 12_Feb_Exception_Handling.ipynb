{
 "cells": [
  {
   "cell_type": "code",
   "execution_count": null,
   "id": "30a760f9-b6fd-4cc7-828b-6d02bbf1eff7",
   "metadata": {},
   "outputs": [],
   "source": [
    "\"\"\"\n",
    "Q1. What is an Exception in python? Write the difference between Exceptions and syntax error\n",
    "\"\"\"\n",
    "# It is an event/errors occurs during execution of program and stops the program in between \n",
    "# whereas syntax error is when we miss a part of code or we have written wrong spelling for some keyword or we have written wrong syntax"
   ]
  },
  {
   "cell_type": "code",
   "execution_count": 3,
   "id": "ef1c37af-cbbc-451e-b6d0-78a48969b15a",
   "metadata": {},
   "outputs": [
    {
     "name": "stdout",
     "output_type": "stream",
     "text": [
      "division by zero\n"
     ]
    }
   ],
   "source": [
    "\"\"\"\n",
    "Q2. What happens when an exception is not handled? Explain it with an example.\n",
    "\"\"\"\n",
    "# If we will not the exception then program will crash and will stop in between.\n",
    "\n",
    "a = 10/0 \n",
    "print(a)\n",
    "# This will show an error"
   ]
  },
  {
   "cell_type": "code",
   "execution_count": 4,
   "id": "42aeba5f-e308-40db-bf6e-b000df0b79ac",
   "metadata": {},
   "outputs": [
    {
     "name": "stdout",
     "output_type": "stream",
     "text": [
      "division by zero\n",
      "We have handled the ZeroDivisionError. Therefore this print statement will also execute\n"
     ]
    }
   ],
   "source": [
    "# Now if we will handle this exception then it will run smoothly\n",
    "try:\n",
    "    a = 10/0\n",
    "    print(a)\n",
    "except ZeroDivisionError as e:\n",
    "    print(e)\n",
    "    \n",
    "print(\"We have handled the ZeroDivisionError. Therefore this print statement will also execute\")"
   ]
  },
  {
   "cell_type": "code",
   "execution_count": 5,
   "id": "f8d07fcb-b2b9-47a1-bc6c-7937531617af",
   "metadata": {},
   "outputs": [
    {
     "name": "stdout",
     "output_type": "stream",
     "text": [
      "[Errno 2] No such file or directory: 'ayan.txt'\n"
     ]
    }
   ],
   "source": [
    "\"\"\"\n",
    "Q3. Which Python statements are used to catch and handle exception? Expalin it with an example.\n",
    "\"\"\"\n",
    "# 'try' block is used to catch Exception and 'except' block is used to handle exception\n",
    "try:\n",
    "    with open(\"ayan.txt\",\"r\") as f:\n",
    "        print(f.read())\n",
    "except FileNotFoundError as e:\n",
    "    print(e)"
   ]
  },
  {
   "cell_type": "code",
   "execution_count": 8,
   "id": "a943c7fc-2071-40a5-9f4e-da90800f44c8",
   "metadata": {},
   "outputs": [
    {
     "name": "stdout",
     "output_type": "stream",
     "text": [
      "10\n",
      "I am inside 'else' block and 'else' block will execute only if 'try' block is executed\n"
     ]
    }
   ],
   "source": [
    "\"\"\"\n",
    "Q4. Explain with an example\n",
    "    a. try and else\n",
    "    b. finally\n",
    "    c. raise\n",
    "\"\"\"\n",
    "# a. try and else \n",
    "try:\n",
    "    a = 10\n",
    "    print(a)\n",
    "except ZeroDivisionError as e:\n",
    "    print(e)\n",
    "else:\n",
    "    print(\"I am inside 'else' block and 'else' block will execute only if 'try' block is executed\")"
   ]
  },
  {
   "cell_type": "code",
   "execution_count": 9,
   "id": "ed4383a8-a907-4df7-8fac-19a18656c147",
   "metadata": {},
   "outputs": [
    {
     "name": "stdout",
     "output_type": "stream",
     "text": [
      "division by zero\n",
      "I am inside finally block and finally block will execute itself in any situation\n"
     ]
    }
   ],
   "source": [
    "# b. finally\n",
    "try:\n",
    "    a = 10/0\n",
    "    print(a)\n",
    "except ZeroDivisionError as e:\n",
    "    print(e)\n",
    "finally:\n",
    "    print(\"I am inside finally block and finally block will execute itself in any situation\")"
   ]
  },
  {
   "cell_type": "code",
   "execution_count": 10,
   "id": "1dcb1427-3c48-460a-a94b-2c2fb9f52831",
   "metadata": {},
   "outputs": [
    {
     "name": "stdin",
     "output_type": "stream",
     "text": [
      "Enter number greater than 0 -2\n"
     ]
    },
    {
     "ename": "Exception",
     "evalue": "The number you entered is less than 0.\nPlease enter the number greater than 0",
     "output_type": "error",
     "traceback": [
      "\u001b[0;31m---------------------------------------------------------------------------\u001b[0m",
      "\u001b[0;31mException\u001b[0m                                 Traceback (most recent call last)",
      "Cell \u001b[0;32mIn[10], line 6\u001b[0m\n\u001b[1;32m      4\u001b[0m num \u001b[38;5;241m=\u001b[39m \u001b[38;5;28mint\u001b[39m(\u001b[38;5;28minput\u001b[39m(\u001b[38;5;124m\"\u001b[39m\u001b[38;5;124mEnter number greater than 0\u001b[39m\u001b[38;5;124m\"\u001b[39m))\n\u001b[1;32m      5\u001b[0m \u001b[38;5;28;01mif\u001b[39;00m num \u001b[38;5;241m<\u001b[39m \u001b[38;5;241m0\u001b[39m:\n\u001b[0;32m----> 6\u001b[0m     \u001b[38;5;28;01mraise\u001b[39;00m \u001b[38;5;167;01mException\u001b[39;00m(\u001b[38;5;124m\"\u001b[39m\u001b[38;5;124mThe number you entered is less than 0.\u001b[39m\u001b[38;5;130;01m\\n\u001b[39;00m\u001b[38;5;124mPlease enter the number greater than 0\u001b[39m\u001b[38;5;124m\"\u001b[39m)\n",
      "\u001b[0;31mException\u001b[0m: The number you entered is less than 0.\nPlease enter the number greater than 0"
     ]
    }
   ],
   "source": [
    "# c. raise\n",
    "# raise keyword is used to raise an exception\n",
    "\n",
    "num = int(input(\"Enter number greater than 0\"))\n",
    "if num < 0:\n",
    "    raise Exception(\"The number you entered is less than 0.\\nPlease enter the number greater than 0\")\n",
    "\n",
    "# This code will raise an exception but program will stop in between and it will not execute further"
   ]
  },
  {
   "cell_type": "code",
   "execution_count": 13,
   "id": "c3e673b9-32a7-496b-b568-3d795f48056d",
   "metadata": {},
   "outputs": [
    {
     "name": "stdin",
     "output_type": "stream",
     "text": [
      "Enter number greater than 0 -2\n"
     ]
    },
    {
     "name": "stdout",
     "output_type": "stream",
     "text": [
      "The number you entered is less than 0.\n",
      "Please enter the number greater than 0\n",
      "This is the last line of the code and it is executed successfully and we have also raised an exception as a message\n"
     ]
    }
   ],
   "source": [
    "# Therfore we will create a class and then we will raise an exception as a message\n",
    "\n",
    "class less(Exception):\n",
    "    def __init__(self,msg):\n",
    "        self.msg = msg\n",
    "        \n",
    "def less_than_0(num):\n",
    "    if num < 0:\n",
    "        raise less(\"The number you entered is less than 0.\\nPlease enter the number greater than 0\")\n",
    "    else:\n",
    "        print(\"Number entered is greater than 0\")\n",
    "        \n",
    "try:\n",
    "    num = int(input(\"Enter number greater than 0\"))\n",
    "    less_than_0(num)\n",
    "except less as e:\n",
    "    print(e)\n",
    "    \n",
    "print(\"This is the last line of the code and it is executed successfully and we have also raised an exception as a message\")"
   ]
  },
  {
   "cell_type": "code",
   "execution_count": 14,
   "id": "ceeb5f9f-f948-4019-b60f-e219df37166a",
   "metadata": {},
   "outputs": [
    {
     "name": "stdin",
     "output_type": "stream",
     "text": [
      "Enter number greater than 0 -7\n"
     ]
    },
    {
     "name": "stdout",
     "output_type": "stream",
     "text": [
      "The number you entered is less than 0.\n",
      "Please enter the number greater than 0\n",
      "This is the last line of the code and it is executed successfully and we have also raised an exception as a message\n"
     ]
    }
   ],
   "source": [
    "\"\"\"\n",
    "Q5. What are custom exceptions in python? Why do we need custom exceptions? Explain with an example.\n",
    "\"\"\"\n",
    "# Custom Exceptions is used to create an exception according to users need\n",
    "# We need custom exception to create an exception according to users need and it is created by creating a new class that is derived from the built-in Exception class\n",
    "class less(Exception):\n",
    "    def __init__(self,msg):\n",
    "        self.msg = msg\n",
    "        \n",
    "def less_than_0(num):\n",
    "    if num < 0:\n",
    "        raise less(\"The number you entered is less than 0.\\nPlease enter the number greater than 0\")\n",
    "    else:\n",
    "        print(\"Number entered is greater than 0\")\n",
    "        \n",
    "try:\n",
    "    num = int(input(\"Enter number greater than 0\"))\n",
    "    less_than_0(num)\n",
    "except less as e:\n",
    "    print(e)\n",
    "    \n",
    "print(\"This is the last line of the code and it is executed successfully and we have also raised an exception as a message\")"
   ]
  },
  {
   "cell_type": "code",
   "execution_count": null,
   "id": "3b1f304a-7a98-4fdb-b3ad-40af0baf6f77",
   "metadata": {},
   "outputs": [],
   "source": [
    "\"\"\"\n",
    "Q6. Create a custom exception class. Use this class to handle an exception.\n",
    "\"\"\"\n",
    "class more(Exception):\n",
    "    def __init__(self,msg):\n",
    "        self.msg = msg\n",
    "        \n",
    "def more_than_0():\n",
    "    if num > 0:\n",
    "        raise less(\"The number you entered is greater than 0.\\nPlease enter the number less than 0\")\n",
    "    else:\n",
    "        print(\"Number entered is grear than 0\")\n",
    "        \n",
    "try:\n",
    "    num = int(input(\"Enter number greater than 0\"))\n",
    "    less_than_0(num)\n",
    "except less as e:\n",
    "    print(e)\n",
    "    \n",
    "print(\"This is the last line of the code and it is executed successfully and we have also raised an exception as a message\")"
   ]
  }
 ],
 "metadata": {
  "kernelspec": {
   "display_name": "Python 3 (ipykernel)",
   "language": "python",
   "name": "python3"
  },
  "language_info": {
   "codemirror_mode": {
    "name": "ipython",
    "version": 3
   },
   "file_extension": ".py",
   "mimetype": "text/x-python",
   "name": "python",
   "nbconvert_exporter": "python",
   "pygments_lexer": "ipython3",
   "version": "3.10.8"
  }
 },
 "nbformat": 4,
 "nbformat_minor": 5
}
