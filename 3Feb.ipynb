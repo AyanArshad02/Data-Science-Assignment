{
 "cells": [
  {
   "cell_type": "code",
   "execution_count": 1,
   "id": "53387f07-4b4a-4581-9e51-d363942ff135",
   "metadata": {},
   "outputs": [
    {
     "data": {
      "text/plain": [
       "[1, 3, 5, 7, 9, 11, 13, 15, 17, 19, 21, 23, 25]"
      ]
     },
     "execution_count": 1,
     "metadata": {},
     "output_type": "execute_result"
    }
   ],
   "source": [
    "# 1. def keyword is used to create a function\n",
    "l=[]\n",
    "def odd():\n",
    "    for i in range(1,26):\n",
    "        if i%2!=0:\n",
    "            l.append(i)\n",
    "    return l        \n",
    "odd()    "
   ]
  },
  {
   "cell_type": "code",
   "execution_count": 9,
   "id": "e83b506b-604e-4006-9646-6792e7e8eec8",
   "metadata": {},
   "outputs": [
    {
     "data": {
      "text/plain": [
       "{}"
      ]
     },
     "execution_count": 9,
     "metadata": {},
     "output_type": "execute_result"
    }
   ],
   "source": [
    "# 2.Why *args and **kwargs is used in some functions? Create a function each for *args and **kwargs to demonstrate their use\n",
    "\"\"\"\n",
    "*args is used when we want to put multiple arguments in a function. It returns tuples.\n",
    "\"\"\"\n",
    "\n",
    "def args(*args):\n",
    "    return args\n",
    "args(1,2,3,4)\n",
    "\n",
    "\"\"\"\n",
    "**kwargs returns dictionary and it is also used when we want to put multiple arguments in a function\n",
    "\"\"\"\n",
    "\n",
    "def kwargs(**kwargs):\n",
    "    return kwargs\n",
    "kwargs()"
   ]
  },
  {
   "cell_type": "code",
   "execution_count": 13,
   "id": "6a0225b0-d996-4cce-a491-7b9de8c0dec2",
   "metadata": {},
   "outputs": [
    {
     "name": "stdout",
     "output_type": "stream",
     "text": [
      "2\n",
      "4\n",
      "6\n",
      "8\n",
      "10\n"
     ]
    }
   ],
   "source": [
    "# 3. what is an iterator in python?\n",
    "\"\"\"\n",
    "iterator in python is an object that contains a countable number of values\n",
    "\"\"\"\n",
    "# name the method use to initalize the iterator object and the method used for iteration.\n",
    "\"\"\"\n",
    "iter() method is used to initalize the iterator object\n",
    "\"\"\"\n",
    "l =[2,4,6,8,10,12,14,16,18,20]\n",
    "a = iter(l)\n",
    "print(next(a))\n",
    "print(next(a))\n",
    "print(next(a))\n",
    "print(next(a))\n",
    "print(next(a))"
   ]
  },
  {
   "cell_type": "code",
   "execution_count": 15,
   "id": "fc953952-1493-47e9-884c-cf2df58ec687",
   "metadata": {},
   "outputs": [
    {
     "name": "stdout",
     "output_type": "stream",
     "text": [
      "2\n",
      "4\n",
      "6\n",
      "8\n",
      "10\n"
     ]
    }
   ],
   "source": [
    "# alternative method to print first 5 elements of given list\n",
    "l = [2,4,6,8,10,12,14,16,18,20]\n",
    "a = iter(l)\n",
    "for i in range(0,5):\n",
    "    print(next(a))"
   ]
  },
  {
   "cell_type": "code",
   "execution_count": 9,
   "id": "d03ab44c-f5ce-4f48-9d09-e4796240fb9d",
   "metadata": {},
   "outputs": [
    {
     "name": "stdin",
     "output_type": "stream",
     "text": [
      "Enter how many even numbers you want: 10\n"
     ]
    },
    {
     "name": "stdout",
     "output_type": "stream",
     "text": [
      "2\n",
      "6\n",
      "10\n",
      "14\n",
      "18\n",
      "22\n",
      "26\n",
      "30\n",
      "34\n",
      "38\n"
     ]
    }
   ],
   "source": [
    "# 4.What is generator function in python? \n",
    "\"\"\"\n",
    "generator functions continously keeps generating outcome without storing everything into a memory\n",
    "\"\"\"\n",
    "# Why yield keyword is used?\n",
    "\"\"\"\n",
    "yield keyword is used to create a generator function\n",
    "\"\"\"\n",
    "# Give an example of a generator function\n",
    "n = int(input(\"Enter how many even numbers you want:\"))\n",
    "def even(n):#creating a generator function to yield even number till n\n",
    "    count = 0\n",
    "    for i in range(1000):\n",
    "        if i % 2 == 0:\n",
    "            yield i\n",
    "            count = count + 1\n",
    "        if count/2 == n:\n",
    "            break\n",
    "            \n",
    "even_num = even(n)\n",
    "for i in even_num:\n",
    "    print(next(even_num))"
   ]
  },
  {
   "cell_type": "code",
   "execution_count": 1,
   "id": "cc6ca3ea-f605-4b65-848a-1209909b7baa",
   "metadata": {},
   "outputs": [],
   "source": [
    "# 5. create a generator function for prime number less than 1000. use the next() method to print first 20 prime number\n",
    "def prime():\n",
    "    count = 0\n",
    "    for i in range(1000):\n",
    "        for j in i:\n",
    "            if i%j == 0:\n",
    "                count = count + 1\n",
    "                if count == 20:\n",
    "                    break\n",
    "                continue\n",
    "            else:\n",
    "                yield i\n",
    "prime_number = prime()\n",
    "for i in range(1000):\n",
    "    print(i)\n",
    "# Doubt on this question    "
   ]
  },
  {
   "cell_type": "code",
   "execution_count": 4,
   "id": "58e22e9f-217d-4e72-834b-f2be4ce804ef",
   "metadata": {},
   "outputs": [
    {
     "name": "stdout",
     "output_type": "stream",
     "text": [
      "0\n",
      "1\n",
      "1\n",
      "2\n",
      "3\n",
      "5\n",
      "8\n",
      "13\n",
      "21\n",
      "34\n"
     ]
    }
   ],
   "source": [
    "# 6. Write a program to print first 10 fibbonaci series using while loop\n",
    "a,b,c = 0,1,1\n",
    "while c <= 10:\n",
    "    print(a)\n",
    "    a,b = b,a+b\n",
    "    c = c + 1"
   ]
  },
  {
   "cell_type": "code",
   "execution_count": 7,
   "id": "18cbf16a-550c-45af-b23b-7bfe3f0aae11",
   "metadata": {},
   "outputs": [
    {
     "name": "stdout",
     "output_type": "stream",
     "text": [
      "['p', 'w', 's', 'k', 'i', 'l', 'l', 's']\n"
     ]
    }
   ],
   "source": [
    "# 7.Write a list comprehension to iterate through the given string: \"pwskills\"\n",
    "# Expected output: ['p','w','s','k','i','l','l','s']\n",
    "string = \"pwskills\"\n",
    "l1 = [(i) for i in string]\n",
    "print(l1)"
   ]
  },
  {
   "cell_type": "code",
   "execution_count": 9,
   "id": "ea54fbd7-30bf-43a9-b27b-41499848cc5f",
   "metadata": {},
   "outputs": [
    {
     "name": "stdin",
     "output_type": "stream",
     "text": [
      " 1234\n"
     ]
    },
    {
     "name": "stdout",
     "output_type": "stream",
     "text": [
      "Not Palindrome\n"
     ]
    }
   ],
   "source": [
    "# 8. write a python program to check whether a given number is palindrome or not using a while loop\n",
    "string = input()\n",
    "l, i = len(string), 0\n",
    "b = l-1\n",
    "while i < l:\n",
    "    if(string[i] == string[b]):\n",
    "        i = i+1\n",
    "        b = b-1\n",
    "        continue\n",
    "    else:\n",
    "        print(\"Not Palindrome\")\n",
    "        break"
   ]
  },
  {
   "cell_type": "code",
   "execution_count": 26,
   "id": "71daa677-2440-4e85-93ac-a75f4e242807",
   "metadata": {},
   "outputs": [
    {
     "ename": "SyntaxError",
     "evalue": "invalid syntax (865786365.py, line 6)",
     "output_type": "error",
     "traceback": [
      "\u001b[0;36m  Cell \u001b[0;32mIn[26], line 6\u001b[0;36m\u001b[0m\n\u001b[0;31m    l_odd = [a if l[a]%2 == 1 else continue a = a + 1 ]\u001b[0m\n\u001b[0m                                   ^\u001b[0m\n\u001b[0;31mSyntaxError\u001b[0m\u001b[0;31m:\u001b[0m invalid syntax\n"
     ]
    }
   ],
   "source": [
    "# 9. Write a code to print odd number from 1 to 100\n",
    "\"\"\" use a list comprehension to create a list from 1 to 100 and use another list comprehension to filter out odd numbers \"\"\"\n",
    "l = [i for i in range(0,101)]\n",
    "a = 0\n",
    "print(l)\n",
    "# l_odd = [a if l[a]%2 == 1 else continue a = a + 1 ]\n",
    "# print(l_odd)\n",
    "\n",
    "odd_list = [i for i in range(0,101)]"
   ]
  },
  {
   "cell_type": "code",
   "execution_count": null,
   "id": "c8a14020-5826-45bd-af72-c23e55289e77",
   "metadata": {},
   "outputs": [],
   "source": []
  }
 ],
 "metadata": {
  "kernelspec": {
   "display_name": "Python 3 (ipykernel)",
   "language": "python",
   "name": "python3"
  },
  "language_info": {
   "codemirror_mode": {
    "name": "ipython",
    "version": 3
   },
   "file_extension": ".py",
   "mimetype": "text/x-python",
   "name": "python",
   "nbconvert_exporter": "python",
   "pygments_lexer": "ipython3",
   "version": "3.10.8"
  }
 },
 "nbformat": 4,
 "nbformat_minor": 5
}
