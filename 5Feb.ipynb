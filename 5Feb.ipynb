{
 "cells": [
  {
   "cell_type": "code",
   "execution_count": 1,
   "id": "95f3d797-6170-4821-bbe8-fec08eab7d29",
   "metadata": {},
   "outputs": [
    {
     "data": {
      "text/plain": [
       "'IIT Madras'"
      ]
     },
     "execution_count": 1,
     "metadata": {},
     "output_type": "execute_result"
    }
   ],
   "source": [
    "# 1. Define class and object w.r.t object oriented programmming. Give a suitable example\n",
    "\"\"\"\n",
    "Class is user-defined data types that acts as a blueprint for individual object(instance,variables)\n",
    "And object is instance of class\n",
    "\"\"\"\n",
    "# e.g.\n",
    "class ayan:\n",
    "    def __init__(self,college):\n",
    "        self.college = college\n",
    "    \n",
    "    def return_college(college):\n",
    "        return self.college\n",
    "\n",
    "khan = ayan(\"IIT Madras\")\n",
    "khan.college\n",
    "\"\"\"\n",
    "Here we have defined a class named 'ayan' and then created a object named 'khan'\n",
    "\"\"\""
   ]
  },
  {
   "cell_type": "code",
   "execution_count": 2,
   "id": "cfdf6d9f-ea33-4a09-b011-7231dc30049b",
   "metadata": {},
   "outputs": [
    {
     "data": {
      "text/plain": [
       "'\\n1. Inheritance\\n2. Polymorphism\\n3. Encapsulation\\n4. Abstraction\\n'"
      ]
     },
     "execution_count": 2,
     "metadata": {},
     "output_type": "execute_result"
    }
   ],
   "source": [
    "# 2. Name the four pillars of OOPS\n",
    "\"\"\"\n",
    "1. Inheritance\n",
    "2. Polymorphism\n",
    "3. Encapsulation\n",
    "4. Abstraction\n",
    "\"\"\""
   ]
  },
  {
   "cell_type": "code",
   "execution_count": 4,
   "id": "aad8e706-13d6-4853-9721-baa5d7f45074",
   "metadata": {},
   "outputs": [
    {
     "name": "stdout",
     "output_type": "stream",
     "text": [
      "Data Science\n"
     ]
    }
   ],
   "source": [
    "# 3. Explain why the __init__() function is used. Give a suitable example\n",
    "\"\"\"\n",
    "__init__() function lets the class initialize the objects attributes\n",
    "\"\"\"\n",
    "class batch():\n",
    "    def __init__(self, batch_name):\n",
    "        self.batch_name = batch_name\n",
    "    def return_batch_name(batch_name):\n",
    "        return self.batch_name\n",
    "ayan = batch(\"Data Science\")\n",
    "print(ayan.batch_name)"
   ]
  },
  {
   "cell_type": "code",
   "execution_count": 5,
   "id": "084c2d9d-3130-4653-aa9e-f3f51f1a9ded",
   "metadata": {},
   "outputs": [
    {
     "data": {
      "text/plain": [
       "'\\nSelf is used to represent the instance of the class\\n'"
      ]
     },
     "execution_count": 5,
     "metadata": {},
     "output_type": "execute_result"
    }
   ],
   "source": [
    "# 4. Why self is used in OOPs\n",
    "\"\"\"\n",
    "Self is used to represent the instance of the class\n",
    "\"\"\""
   ]
  },
  {
   "cell_type": "code",
   "execution_count": null,
   "id": "a62baea8-90ba-4258-b3fb-4b82768793a0",
   "metadata": {},
   "outputs": [],
   "source": [
    "# 5. What is inheritance? Give an example for each type of inheritance\n",
    "\"\"\"\n",
    "Inheritance allows class to inherits properties from another class\n",
    "five types of inheritance are:\n",
    "single\n",
    "multiple\n",
    "multi-level\n",
    "\n",
    "\"\"\""
   ]
  }
 ],
 "metadata": {
  "kernelspec": {
   "display_name": "Python 3 (ipykernel)",
   "language": "python",
   "name": "python3"
  },
  "language_info": {
   "codemirror_mode": {
    "name": "ipython",
    "version": 3
   },
   "file_extension": ".py",
   "mimetype": "text/x-python",
   "name": "python",
   "nbconvert_exporter": "python",
   "pygments_lexer": "ipython3",
   "version": "3.10.8"
  }
 },
 "nbformat": 4,
 "nbformat_minor": 5
}
