{
 "cells": [
  {
   "cell_type": "code",
   "execution_count": 20,
   "id": "70966546-a2bc-4360-9ce0-d745e57da9b9",
   "metadata": {},
   "outputs": [],
   "source": [
    "\"Consider the below code to answer further questions:\"\n",
    "import numpy as np\n",
    "list_ = [ '1' , '2' , '3' , '4' , '5' ]\n",
    "array_list = np.array(object = list_)"
   ]
  },
  {
   "cell_type": "code",
   "execution_count": null,
   "id": "5735c315-e5cd-4868-b033-4dd7fd4ff1f7",
   "metadata": {},
   "outputs": [],
   "source": [
    "\"\"\"Q1. Is there any difference in the data type of variables list_ and array_list? If there is then write a code\n",
    "to print the data types of both the variables.\"\"\""
   ]
  },
  {
   "cell_type": "code",
   "execution_count": 21,
   "id": "2adfaab2-c7ee-47ac-9ba5-4373c82047e3",
   "metadata": {},
   "outputs": [
    {
     "name": "stdout",
     "output_type": "stream",
     "text": [
      "['1', '2', '3', '4', '5']\n"
     ]
    }
   ],
   "source": [
    "print(list_)"
   ]
  },
  {
   "cell_type": "code",
   "execution_count": 34,
   "id": "7fed7c8f-010b-4190-84aa-534ddfd4080a",
   "metadata": {},
   "outputs": [
    {
     "name": "stdout",
     "output_type": "stream",
     "text": [
      "<class 'list'>\n"
     ]
    }
   ],
   "source": [
    "print(type(list_))"
   ]
  },
  {
   "cell_type": "code",
   "execution_count": null,
   "id": "c7e63ae4-72b2-440b-9490-f5cd94c55177",
   "metadata": {},
   "outputs": [],
   "source": [
    "# list_ is of list data type"
   ]
  },
  {
   "cell_type": "code",
   "execution_count": 16,
   "id": "f268eab7-828c-4efb-965a-1a4fd212e0d5",
   "metadata": {},
   "outputs": [
    {
     "data": {
      "text/plain": [
       "array(['1', '2', '3', '4', '5'], dtype='<U1')"
      ]
     },
     "execution_count": 16,
     "metadata": {},
     "output_type": "execute_result"
    }
   ],
   "source": [
    "array_list"
   ]
  },
  {
   "cell_type": "code",
   "execution_count": 18,
   "id": "dbb44593-af8c-4bc9-a48b-c387ff839ab1",
   "metadata": {},
   "outputs": [
    {
     "name": "stdout",
     "output_type": "stream",
     "text": [
      "<U1\n"
     ]
    }
   ],
   "source": [
    "print(array_list.dtype)"
   ]
  },
  {
   "cell_type": "code",
   "execution_count": null,
   "id": "b4c731d3-6096-4444-9135-807036f289a5",
   "metadata": {},
   "outputs": [],
   "source": [
    "# data type of array_list is U1 i.e. uint8 i.e. it is 8-bit unsigned integer"
   ]
  },
  {
   "cell_type": "code",
   "execution_count": 33,
   "id": "09511900-2fda-4bcd-9955-d73147df0d4c",
   "metadata": {},
   "outputs": [
    {
     "name": "stdout",
     "output_type": "stream",
     "text": [
      "<class 'str'>\n",
      "<class 'str'>\n",
      "<class 'str'>\n",
      "<class 'str'>\n",
      "<class 'str'>\n"
     ]
    }
   ],
   "source": [
    "\"\"\"Q2. Write a code to print the data type of each and every element of both the variables list_ and\n",
    "array_list.\"\"\"\n",
    "for i in list_:\n",
    "    print(type(i))"
   ]
  },
  {
   "cell_type": "code",
   "execution_count": 35,
   "id": "28d1d11f-907c-4d11-beff-d5edf3593c3d",
   "metadata": {},
   "outputs": [
    {
     "name": "stdout",
     "output_type": "stream",
     "text": [
      "<U1\n",
      "<U1\n",
      "<U1\n",
      "<U1\n",
      "<U1\n"
     ]
    }
   ],
   "source": [
    "for i in array_list:\n",
    "    print(i.dtype)"
   ]
  },
  {
   "cell_type": "code",
   "execution_count": 42,
   "id": "3bfc800b-5160-4e47-b43c-67b97b25d7a9",
   "metadata": {},
   "outputs": [
    {
     "name": "stdout",
     "output_type": "stream",
     "text": [
      "Type of array_list variable:\n",
      "<class 'numpy.int64'>\n",
      "<class 'numpy.int64'>\n",
      "<class 'numpy.int64'>\n",
      "<class 'numpy.int64'>\n",
      "<class 'numpy.int64'>\n",
      "\n",
      "Type of list_ variables:\n",
      "<class 'str'>\n",
      "<class 'str'>\n",
      "<class 'str'>\n",
      "<class 'str'>\n",
      "<class 'str'>\n"
     ]
    }
   ],
   "source": [
    "\"\"\"\n",
    "Q3. Considering the following changes in the variable, array_list:\"\"\"\n",
    "\n",
    "array_list = np.array(object = list_, dtype = int)\n",
    "\n",
    "\"\"\"Will there be any difference in the data type of the elements present in both the variables, list_ and\n",
    "arra_list? If so then print the data types of each and every element present in both the variables, list_\n",
    "and arra_list.\n",
    "\"\"\"\n",
    "\n",
    "# data type of list_ variable will remain same but data type of array_list will change to int\n",
    "print(\"Type of array_list variable:\")\n",
    "for i in array_list:\n",
    "    print(type(i))\n",
    "    \n",
    "print(\"\\nType of list_ variables:\")\n",
    "for i in list_:\n",
    "    print(type(i))"
   ]
  },
  {
   "cell_type": "code",
   "execution_count": 43,
   "id": "292a1a51-40de-421b-b87c-2853065e1bbb",
   "metadata": {},
   "outputs": [],
   "source": [
    "\"Consider the below code to answer further questions:\"\n",
    "import numpy as np\n",
    "num_list = [ [ 1 , 2 , 3 ] , [ 4 , 5 , 6 ] ]\n",
    "num_array = np.array(object = num_list)"
   ]
  },
  {
   "cell_type": "code",
   "execution_count": 47,
   "id": "aa5e6d6c-690f-4314-8a36-6fb98653708f",
   "metadata": {},
   "outputs": [
    {
     "name": "stdout",
     "output_type": "stream",
     "text": [
      "Shape of num_array is: (2, 3)\n",
      "Size of num_array is: 6\n"
     ]
    }
   ],
   "source": [
    "\"\"\"\n",
    "Q4. Write a code to find the following characteristics of variable, num_array:\n",
    "(i) shape\n",
    "(ii) size\n",
    "\"\"\"\n",
    "print(\"Shape of num_array is:\", num_array.shape)\n",
    "print(\"Size of num_array is:\", num_array.size)"
   ]
  },
  {
   "cell_type": "code",
   "execution_count": 54,
   "id": "efa1035c-a129-46b6-9fb4-4df2e98005f8",
   "metadata": {},
   "outputs": [
    {
     "name": "stdout",
     "output_type": "stream",
     "text": [
      "[[0. 0. 0.]\n",
      " [0. 0. 0.]\n",
      " [0. 0. 0.]]\n",
      "Size of array is: 9\n"
     ]
    }
   ],
   "source": [
    "\"\"\"\n",
    "Q5. Write a code to create numpy array of 3*3 matrix containing zeros only, using a numpy array\n",
    "creation function.\n",
    "[Hint: The size of the array will be 9 and the shape will be (3,3).]\n",
    "\"\"\"\n",
    "data = np.zeros((3,3))\n",
    "size = np.size\n",
    "print(np.matrix(data))\n",
    "print(\"Size of array is:\",data.size)"
   ]
  },
  {
   "cell_type": "code",
   "execution_count": null,
   "id": "4da69179-3dd5-45f7-a5bc-04a96880676b",
   "metadata": {},
   "outputs": [],
   "source": []
  }
 ],
 "metadata": {
  "kernelspec": {
   "display_name": "Python 3 (ipykernel)",
   "language": "python",
   "name": "python3"
  },
  "language_info": {
   "codemirror_mode": {
    "name": "ipython",
    "version": 3
   },
   "file_extension": ".py",
   "mimetype": "text/x-python",
   "name": "python",
   "nbconvert_exporter": "python",
   "pygments_lexer": "ipython3",
   "version": "3.10.8"
  }
 },
 "nbformat": 4,
 "nbformat_minor": 5
}
