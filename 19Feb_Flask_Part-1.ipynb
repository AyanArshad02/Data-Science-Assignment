{
 "cells": [
  {
   "cell_type": "code",
   "execution_count": null,
   "id": "baf8edf4-8039-4564-a56d-9e7f8179e81a",
   "metadata": {},
   "outputs": [],
   "source": [
    "\"Q1. What is Flask Framework? What are the advantages of Flask Framework?\"\n",
    "# Flask is a web framework. It is a python module that allows us to develop web applications easily\n",
    "# Unlike the Django framework, Flask is very Pythonic. It’s easy to get started with Flask, because it doesn’t have a huge learning curve."
   ]
  },
  {
   "cell_type": "code",
   "execution_count": 2,
   "id": "52440615-e455-463c-ac26-a3793ace486b",
   "metadata": {},
   "outputs": [
    {
     "name": "stdout",
     "output_type": "stream",
     "text": [
      "Collecting flask\n",
      "  Downloading flask-2.3.3-py3-none-any.whl (96 kB)\n",
      "\u001b[2K     \u001b[90m━━━━━━━━━━━━━━━━━━━━━━━━━━━━━━━━━━━━━━━━\u001b[0m \u001b[32m96.1/96.1 kB\u001b[0m \u001b[31m4.1 MB/s\u001b[0m eta \u001b[36m0:00:00\u001b[0m\n",
      "\u001b[?25hCollecting itsdangerous>=2.1.2\n",
      "  Downloading itsdangerous-2.1.2-py3-none-any.whl (15 kB)\n",
      "Collecting blinker>=1.6.2\n",
      "  Downloading blinker-1.6.2-py3-none-any.whl (13 kB)\n",
      "Collecting Werkzeug>=2.3.7\n",
      "  Downloading werkzeug-2.3.7-py3-none-any.whl (242 kB)\n",
      "\u001b[2K     \u001b[90m━━━━━━━━━━━━━━━━━━━━━━━━━━━━━━━━━━━━━━\u001b[0m \u001b[32m242.2/242.2 kB\u001b[0m \u001b[31m21.8 MB/s\u001b[0m eta \u001b[36m0:00:00\u001b[0m\n",
      "\u001b[?25hRequirement already satisfied: click>=8.1.3 in /opt/conda/lib/python3.10/site-packages (from flask) (8.1.3)\n",
      "Requirement already satisfied: Jinja2>=3.1.2 in /opt/conda/lib/python3.10/site-packages (from flask) (3.1.2)\n",
      "Requirement already satisfied: MarkupSafe>=2.0 in /opt/conda/lib/python3.10/site-packages (from Jinja2>=3.1.2->flask) (2.1.1)\n",
      "Installing collected packages: Werkzeug, itsdangerous, blinker, flask\n",
      "  Attempting uninstall: blinker\n",
      "    Found existing installation: blinker 1.5\n",
      "    Uninstalling blinker-1.5:\n",
      "      Successfully uninstalled blinker-1.5\n",
      "Successfully installed Werkzeug-2.3.7 blinker-1.6.2 flask-2.3.3 itsdangerous-2.1.2\n",
      "Note: you may need to restart the kernel to use updated packages.\n"
     ]
    }
   ],
   "source": [
    "pip install flask"
   ]
  },
  {
   "cell_type": "code",
   "execution_count": null,
   "id": "2e35a1dd-ea00-4205-b051-9a45f50359ce",
   "metadata": {},
   "outputs": [
    {
     "name": "stdout",
     "output_type": "stream",
     "text": [
      " * Serving Flask app '__main__'\n",
      " * Debug mode: off\n"
     ]
    },
    {
     "name": "stderr",
     "output_type": "stream",
     "text": [
      "WARNING: This is a development server. Do not use it in a production deployment. Use a production WSGI server instead.\n",
      " * Running on all addresses (0.0.0.0)\n",
      " * Running on http://127.0.0.1:5000\n",
      " * Running on http://172.18.0.13:5000\n",
      "Press CTRL+C to quit\n",
      "172.18.0.2 - - [11/Sep/2023 06:19:45] \"GET /hello HTTP/1.1\" 200 -\n",
      "172.18.0.2 - - [11/Sep/2023 06:19:46] \"GET /favicon.ico HTTP/1.1\" 404 -\n"
     ]
    }
   ],
   "source": [
    "\"\"\"Q2. Create a simple Flask application to display ‘Hello World!!’. Attach the screenshot of the output in\n",
    "Jupyter Notebook.\"\"\"\n",
    "from flask import Flask\n",
    "\n",
    "app = Flask(__name__)\n",
    "\n",
    "@app.route(\"/hello\")\n",
    "def hello_world():\n",
    "    return \"<h1>Hello World!!</h1>\"\n",
    "\n",
    "if __name__==\"__main__\":\n",
    "    app.run(host=\"0.0.0.0\")\n",
    "# Succesfully Done but unable to attach the screenshot\n",
    "from IPython.display import Image\n",
    "Image(url = \"https://drive.google.com/drive/folders/1p38UJNexC0VnhEvUrglIlgpykqCqCm_n\",height = 300)"
   ]
  },
  {
   "cell_type": "code",
   "execution_count": null,
   "id": "fe3eb0d1-bb1c-4f62-9d29-b144002ab33e",
   "metadata": {},
   "outputs": [],
   "source": [
    "\"\"\"Q3. What is App routing in Flask? Why do we use app routes?\"\"\"\n",
    "# App routing is the technique used to map the specific URL with the associated function intended to perform some task. \n",
    "# It is used to help users to remember specific URLs"
   ]
  },
  {
   "cell_type": "code",
   "execution_count": null,
   "id": "cbd4999c-2447-4989-bf65-523c6caa77e2",
   "metadata": {},
   "outputs": [],
   "source": [
    "\"\"\"Q4. Create a “/welcome” route to display the welcome message “Welcome to ABC Corporation” and a “/”\n",
    "route to show the following details:\n",
    "Company Name: ABC Corporation\n",
    "Location: India\n",
    "Contact Detail: 999-999-9999\n",
    "Attach the screenshot of the output in Jupyter Notebook.\"\"\"\n",
    "\n",
    "from flask import flask\n",
    "\n",
    "app = flask(__name__)\n",
    "\n",
    "@app.route(\"/welcome\")\n",
    "def welcome():\n",
    "    return \"<h1>Welcome To ABC Corporation</h1>\"\n",
    "\n",
    "@app.route(\"/\")\n",
    "def company_details():\n",
    "    return \"<h1>Company Name: ABC Corporation</h1>,<h2>Location: India</h2>,<h3>Contact Detail: 999-999-9999</h3>\""
   ]
  },
  {
   "cell_type": "code",
   "execution_count": null,
   "id": "41e4fb6b-f1d2-451e-910c-5f6331a2b158",
   "metadata": {},
   "outputs": [],
   "source": [
    "\"\"\"Q5. What function is used in Flask for URL Building? Write a Python code to demonstrate the working of the\n",
    "url_for() function.\"\"\""
   ]
  },
  {
   "cell_type": "code",
   "execution_count": null,
   "id": "87b26a48-abba-4988-984c-7af69824e851",
   "metadata": {},
   "outputs": [],
   "source": []
  }
 ],
 "metadata": {
  "kernelspec": {
   "display_name": "Python 3 (ipykernel)",
   "language": "python",
   "name": "python3"
  },
  "language_info": {
   "codemirror_mode": {
    "name": "ipython",
    "version": 3
   },
   "file_extension": ".py",
   "mimetype": "text/x-python",
   "name": "python",
   "nbconvert_exporter": "python",
   "pygments_lexer": "ipython3",
   "version": "3.10.8"
  }
 },
 "nbformat": 4,
 "nbformat_minor": 5
}
