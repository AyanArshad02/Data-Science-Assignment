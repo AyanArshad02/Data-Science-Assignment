{
 "cells": [
  {
   "cell_type": "code",
   "execution_count": 1,
   "id": "00f05e94-e69d-43c1-98b9-1ed9635c8d46",
   "metadata": {},
   "outputs": [
    {
     "name": "stdout",
     "output_type": "stream",
     "text": [
      "1\n",
      "2\n",
      "3\n",
      "4\n",
      "5\n",
      "6\n",
      "7\n",
      "8\n",
      "9\n",
      "0\n",
      "1\n",
      "2\n",
      "3\n",
      "4\n",
      "5\n",
      "6\n",
      "7\n",
      "8\n",
      "9\n"
     ]
    }
   ],
   "source": [
    "# 1. Explain with an example when to use a for loop and while loop\n",
    "\n",
    "# For loop: we use for loop when we want to repeat a block of code fixed number of times\n",
    "l = [1,2,3,4,5,6,7,8,9]\n",
    "for i in l:\n",
    "    print(i)\n",
    "    \n",
    "# While loop: we use while loop when we want to execute code if and only if certain conditions is true\n",
    "i = 0\n",
    "while i < 10:\n",
    "    print(i)\n",
    "    i = i + 1"
   ]
  },
  {
   "cell_type": "code",
   "execution_count": 3,
   "id": "425612b3-2011-42ba-a43d-8439b073fcef",
   "metadata": {},
   "outputs": [
    {
     "name": "stdout",
     "output_type": "stream",
     "text": [
      "sum of first 10 natural number using for loop is: 55\n",
      "The sum of first 10 natural number using while loop is: 55\n"
     ]
    }
   ],
   "source": [
    "# 2.Write a python program to print the sum and product of first 10 natural numbers using For and while loop\n",
    "\n",
    "# For Loop:\n",
    "l=[1,2,3,4,5,6,7,8,9,10]\n",
    "sum = 0\n",
    "for i in l:\n",
    "    sum = sum + i\n",
    "print(\"sum of first 10 natural number using for loop is:\",sum)  \n",
    "\n",
    "# While Loop:\n",
    "i = 1\n",
    "sum = 0\n",
    "while i <= 10:\n",
    "    sum = sum + i\n",
    "    i = i + 1\n",
    "print(\"The sum of first 10 natural number using while loop is:\",sum)    "
   ]
  },
  {
   "cell_type": "code",
   "execution_count": 2,
   "id": "cc4dedca-28a1-4ff5-bbdd-525e8573077a",
   "metadata": {},
   "outputs": [
    {
     "name": "stdin",
     "output_type": "stream",
     "text": [
      "Enter units: 70\n"
     ]
    },
    {
     "name": "stdout",
     "output_type": "stream",
     "text": [
      "Electricity Bill = 315.0\n"
     ]
    }
   ],
   "source": [
    "# 3.Create a python program to compute a electricity bill for the household\n",
    "\"\"\"For the first 100 units, the user will be charged Rs. 4.5 per\n",
    "unit, for the next 100 units, the user will be charged Rs. 6 per unit, and for the next 100 units, the user will\n",
    "be charged Rs. 10 per unit, After 300 units and above the user will be charged Rs. 20 per unit.\"\"\"\n",
    "\n",
    "unit = int(input(\"Enter units:\"))\n",
    "if unit<100:\n",
    "    ebill = unit*4.5\n",
    "if unit > 100 and unit < 200:\n",
    "    ebill = 100*4.5 + (unit-100)*6\n",
    "if unit > 200 and   unit < 300:\n",
    "    ebill = 100*4.5 + 100*6 + (unit-200)*10\n",
    "if unit > 300:\n",
    "    ebill = 100*4.5 + 100*6 + 100*10 + (unit-300)*20\n",
    "print(\"Electricity Bill =\",ebill)    "
   ]
  },
  {
   "cell_type": "code",
   "execution_count": 17,
   "id": "a7532c4e-d443-4696-bb0c-f4a1eb39caca",
   "metadata": {},
   "outputs": [
    {
     "name": "stdout",
     "output_type": "stream",
     "text": [
      "[2, 4, 5, 6, 8, 10, 12, 14, 15, 16, 18, 20, 22, 24, 25, 26, 28, 30, 32, 34, 35, 36, 38, 40, 42, 44, 45, 46, 48, 50, 52, 54, 55, 56, 58, 60, 62, 64, 65, 66, 68, 70, 72, 74, 75, 76, 78, 80, 82, 84, 85, 86, 88, 90, 92, 94, 95, 96, 98, 100]\n"
     ]
    }
   ],
   "source": [
    "\"\"\" 4.Create a list of numbers from 1 to 100. Use for loop and while loop to calculate the cube of each\n",
    "number and if the cube of that number is divisible by 4 or 5 then append that number in a list and print\n",
    "that list.\"\"\"\n",
    "i = 100\n",
    "l = []\n",
    "for i in range(1,101):\n",
    "    l.append(i)\n",
    "# print(l)    \n",
    "l1=[]\n",
    "for i in l:\n",
    "    cube = i**3\n",
    "    if cube%4 == 0 or cube%5 == 0:\n",
    "        l1.append(i)\n",
    "print(l1)    "
   ]
  },
  {
   "cell_type": "code",
   "execution_count": 19,
   "id": "0b9cf020-19d2-4caa-b381-ba76187ccf32",
   "metadata": {},
   "outputs": [
    {
     "name": "stdout",
     "output_type": "stream",
     "text": [
      "Number of vowels in this string is: 11\n"
     ]
    }
   ],
   "source": [
    "\"\"\" 5.Write a program to filter count vowels in the below-given string.\n",
    "string = \"I want to become a data scientist\"\"\"\n",
    "\n",
    "string = \"I want to become a data scientist\"\n",
    "l = string.split()\n",
    "count = 0\n",
    "for words in l:\n",
    "    for alphabets in words:\n",
    "        if alphabets == 'a' or alphabets == 'e' or alphabets == 'i' or alphabets == 'o' or alphabets == 'u':\n",
    "            count = count + 1\n",
    "print(\"Number of vowels in this string is:\",count)            "
   ]
  },
  {
   "cell_type": "code",
   "execution_count": null,
   "id": "e1e45426-559d-4526-817e-d867380f8be7",
   "metadata": {},
   "outputs": [],
   "source": []
  }
 ],
 "metadata": {
  "kernelspec": {
   "display_name": "Python 3 (ipykernel)",
   "language": "python",
   "name": "python3"
  },
  "language_info": {
   "codemirror_mode": {
    "name": "ipython",
    "version": 3
   },
   "file_extension": ".py",
   "mimetype": "text/x-python",
   "name": "python",
   "nbconvert_exporter": "python",
   "pygments_lexer": "ipython3",
   "version": "3.10.8"
  }
 },
 "nbformat": 4,
 "nbformat_minor": 5
}
