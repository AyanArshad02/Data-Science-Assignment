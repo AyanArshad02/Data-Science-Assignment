{
 "cells": [
  {
   "cell_type": "code",
   "execution_count": 8,
   "id": "9f9ad6d4-24ae-4e58-8c26-02b5dcf6541b",
   "metadata": {},
   "outputs": [],
   "source": [
    "# 1. What is Abstraction in OOPs? Explain with an example\n",
    "\"\"\"\n",
    "It is the process of hiding the internals details of an application from the outer world\n",
    "\"\"\"\n",
    "class abstraction:\n",
    "    def ayan(self, a,b):\n",
    "        self.__a == a\n",
    "    \n",
    "    def add(self,a,b):\n",
    "        return a+b\n",
    "add_obj = abstraction()"
   ]
  },
  {
   "cell_type": "code",
   "execution_count": 9,
   "id": "de7ebb12-aa89-444d-a582-e13ae5cdf565",
   "metadata": {},
   "outputs": [
    {
     "data": {
      "text/plain": [
       "5"
      ]
     },
     "execution_count": 9,
     "metadata": {},
     "output_type": "execute_result"
    }
   ],
   "source": [
    "add_obj.add(2,3)"
   ]
  },
  {
   "cell_type": "code",
   "execution_count": null,
   "id": "1aa7372a-d7ec-47e0-abf0-f07f65c1d630",
   "metadata": {},
   "outputs": [],
   "source": [
    "# 2. Difference between abstraction and encapsulation. Explain with an example\n",
    "\"\"\"\n",
    "a. Abstraction is hiding the details and implementation of the code\n",
    "b. Encapsulation is hiding the data and controlling the visibility of the code\n",
    "\"\"\""
   ]
  },
  {
   "cell_type": "code",
   "execution_count": null,
   "id": "871fdb8d-73ba-4fd6-b2b9-7af1d82cb840",
   "metadata": {},
   "outputs": [],
   "source": [
    "# 3. What is abc module in python and why it is used?\n",
    "\"\"\"\n",
    "abc modules provides infrastructur for defining abstract base classes\n",
    "OR\n",
    "abc modules helps us in creating abstract class in python be\n",
    "\"\"\""
   ]
  },
  {
   "cell_type": "code",
   "execution_count": null,
   "id": "3d237eca-268a-470d-b243-951c9725fab0",
   "metadata": {},
   "outputs": [],
   "source": [
    "# 4. How can we achieve data abstraction?\n",
    "\"\"\"\n",
    "Data Abstraction can be achieved by creating abstract classes and inherting from them later\n",
    "\"\"\""
   ]
  },
  {
   "cell_type": "code",
   "execution_count": null,
   "id": "6df8487b-2cdb-4b8b-a27b-901b512df9da",
   "metadata": {},
   "outputs": [],
   "source": [
    "# 5. Can we create an instance of an abstract class? Explain your answer\n",
    "\"\"\"\n",
    "\n",
    "\"\"\""
   ]
  }
 ],
 "metadata": {
  "kernelspec": {
   "display_name": "Python 3 (ipykernel)",
   "language": "python",
   "name": "python3"
  },
  "language_info": {
   "codemirror_mode": {
    "name": "ipython",
    "version": 3
   },
   "file_extension": ".py",
   "mimetype": "text/x-python",
   "name": "python",
   "nbconvert_exporter": "python",
   "pygments_lexer": "ipython3",
   "version": "3.10.8"
  }
 },
 "nbformat": 4,
 "nbformat_minor": 5
}
