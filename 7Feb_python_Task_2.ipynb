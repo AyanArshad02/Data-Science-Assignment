{
 "cells": [
  {
   "cell_type": "code",
   "execution_count": 2,
   "id": "57a16248-5c93-45b1-a565-b5b39dd2c13a",
   "metadata": {},
   "outputs": [],
   "source": [
    "\"\"\"\n",
    "Q1. You are writing code for a company. The requirement of the company is that you create a python\n",
    "function that will check whether the password entered by the user is correct or not. The function should\n",
    "take the password as input and return the string “Valid Password” if the entered password follows the\n",
    "below-given password guidelines else it should return “Invalid Password”.\n",
    "\n",
    "Note: 1. The Password should contain at least two uppercase letters and at least two lowercase letters.\n",
    "2. The Password should contain at least a number and three special characters.\n",
    "3. The length of the password should be 10 characters long.\n",
    "\"\"\""
   ]
  },
  {
   "cell_type": "code",
   "execution_count": 6,
   "id": "b2424510-9d90-4165-a6f9-731a8e33a831",
   "metadata": {},
   "outputs": [
    {
     "name": "stdin",
     "output_type": "stream",
     "text": [
      "Enter your password: AYank23@#%\n"
     ]
    },
    {
     "name": "stdout",
     "output_type": "stream",
     "text": [
      "Valid Password\n"
     ]
    }
   ],
   "source": [
    "c_lower,c_upper,num,s_ch = 0,0,0,0\n",
    "def pw():\n",
    "    global c_lower\n",
    "    global c_upper\n",
    "    global num\n",
    "    global s_ch\n",
    "    password = input(\"Enter your password:\")\n",
    "    for i in password:\n",
    "        if i.isupper() == True:\n",
    "            c_upper = c_upper + 1\n",
    "        if i.islower() == True:\n",
    "            c_lower = c_lower + 1\n",
    "        if i.isnumeric() == True:\n",
    "            num = num + 1\n",
    "        if i.isalpha() == False and i.isnumeric() == False:\n",
    "            s_ch = s_ch + 1\n",
    "    if c_upper >= 2 and c_lower >= 2 and num >=1 and s_ch == 3 and len(password) == 10:\n",
    "        print(\"Valid Password\")\n",
    "    else:\n",
    "        print(\"Invalid Password\")\n",
    "\n",
    "pw()"
   ]
  },
  {
   "cell_type": "code",
   "execution_count": 7,
   "id": "9b616ece-31c5-4dcc-b786-5df3be55839b",
   "metadata": {},
   "outputs": [],
   "source": [
    "\"\"\"\n",
    "Q2. Solve the below-given questions using at least one of the following:\n",
    "1. Lambda function\n",
    "2. Filter function\n",
    "3. Map function\n",
    "4. List Comprehension\n",
    "- Check if the string starts with a particular letter.\n",
    "- Check if the string is numeric.\n",
    "- Sort a list of tuples having fruit names and their quantity. [(\"mango\",99),(\"orange\",80), (\"grapes\", 1000)]\n",
    "- Find the squares of numbers from 1 to 10.\n",
    "- Find the cube root of numbers from 1 to 10.\n",
    "- Check if a given number is even.\n",
    "- Filter odd numbers from the given list.\n",
    "        [1,2,3,4,5,6,7,8,9,10]\n",
    "- Sort a list of integers into positive and negative integers lists.\n",
    "        [1,2,3,4,5,6,-1,-2,-3,-4,-5,0]\n",
    "\"\"\""
   ]
  },
  {
   "cell_type": "code",
   "execution_count": 8,
   "id": "f16dd146-e006-4ee3-8b81-d930f7c97c6f",
   "metadata": {},
   "outputs": [],
   "source": [
    "# check is string starts with a particular letter."
   ]
  },
  {
   "cell_type": "code",
   "execution_count": 12,
   "id": "eb925da5-277e-485e-88a6-3314915952fb",
   "metadata": {},
   "outputs": [
    {
     "name": "stdin",
     "output_type": "stream",
     "text": [
      "Enter your string to check if it is numeric or not: 9999999\n"
     ]
    },
    {
     "data": {
      "text/plain": [
       "True"
      ]
     },
     "execution_count": 12,
     "metadata": {},
     "output_type": "execute_result"
    }
   ],
   "source": [
    "# check if the string is numeric\n",
    "num = input(\"Enter your string to check if it is numeric or not:\")\n",
    "check = lambda num: num.isnumeric()\n",
    "check(num)"
   ]
  },
  {
   "cell_type": "code",
   "execution_count": 20,
   "id": "aed71a2b-0ede-4860-baa8-29f7876c7594",
   "metadata": {},
   "outputs": [
    {
     "name": "stdout",
     "output_type": "stream",
     "text": [
      "[('orange', 80), ('mango', 99), ('grapes', 1000)]\n"
     ]
    }
   ],
   "source": [
    "# sort a list of tuples having fruit name and their quantity.\n",
    "l = [(\"mango\",99),(\"orange\",80),(\"grapes\",1000)]\n",
    "l.sort(key = lambda a:a[1])\n",
    "print(l)"
   ]
  },
  {
   "cell_type": "code",
   "execution_count": 7,
   "id": "5b4fc8ca-8cd3-4b21-9da1-569ce554189e",
   "metadata": {},
   "outputs": [
    {
     "name": "stdout",
     "output_type": "stream",
     "text": [
      "[1, 4, 9, 16, 25, 36, 49, 64, 81, 100]\n",
      "By using list comprehension: [1, 4, 9, 16, 25, 36, 49, 64, 81, 100]\n"
     ]
    }
   ],
   "source": [
    "# find a squares of number from 1 to 10\n",
    "l = []\n",
    "l1 = []\n",
    "for i in range(1,11):\n",
    "    l.append(i)\n",
    "for a in l:\n",
    "    sq = a**2\n",
    "    l1.append(sq)\n",
    "print(l1)\n",
    "\n",
    "\"OR\"\n",
    "\n",
    "print(\"By using list comprehension:\",[a**2 for a in range(1,11)])"
   ]
  },
  {
   "cell_type": "code",
   "execution_count": 8,
   "id": "936d2a46-1aba-46e9-8373-955997b66d1e",
   "metadata": {},
   "outputs": [
    {
     "name": "stdout",
     "output_type": "stream",
     "text": [
      "[1, 8, 27, 64, 125, 216, 343, 512, 729, 1000]\n",
      "By using list comprehension: [1, 8, 27, 64, 125, 216, 343, 512, 729, 1000]\n"
     ]
    }
   ],
   "source": [
    "# find a cube root of number from 1 to 10\n",
    "l = []\n",
    "l1 = []\n",
    "for i in range(1,11):\n",
    "    l.append(i)\n",
    "for a in l:\n",
    "    cube = a**3\n",
    "    l1.append(cube)\n",
    "print(l1)\n",
    "\n",
    "\"OR\"\n",
    "\n",
    "print(\"By using list comprehension:\",[i**3 for i in range(1,11) ])"
   ]
  },
  {
   "cell_type": "code",
   "execution_count": 9,
   "id": "0d9498bd-226f-42e0-a692-906a02191090",
   "metadata": {},
   "outputs": [
    {
     "name": "stdin",
     "output_type": "stream",
     "text": [
      "Enter number to check whether it is even or odd: 4\n"
     ]
    },
    {
     "name": "stdout",
     "output_type": "stream",
     "text": [
      "Even\n",
      "By using list comprehension: Even\n"
     ]
    }
   ],
   "source": [
    "# Check if given number is even\n",
    "a = int(input(\"Enter number to check whether it is even or odd:\"))\n",
    "if a%2 == 0:\n",
    "    print(\"Even\")\n",
    "else:\n",
    "    print(\"Odd\")\n",
    "    \n",
    "\"OR\"\n",
    "\n",
    "print(\"By using list comprehension:\",\"Even\" if a%2==0 else \"Odd\")"
   ]
  },
  {
   "cell_type": "code",
   "execution_count": 11,
   "id": "5f33b4f6-9801-418c-9483-f3e5fd03625a",
   "metadata": {},
   "outputs": [
    {
     "name": "stdout",
     "output_type": "stream",
     "text": [
      "[1, 3, 5, 7, 9]\n",
      "By using list comprehension: [1, 3, 5, 7, 9]\n"
     ]
    }
   ],
   "source": [
    "# Filter odd numbers from the given list.\n",
    "#        [1,2,3,4,5,6,7,8,9,10]\n",
    "odd_list = []\n",
    "for i in range(1,11):\n",
    "    if i%2 != 0:\n",
    "        odd_list.append(i)\n",
    "        \n",
    "print(odd_list)\n",
    "\"OR\"\n",
    "print(\"By using list comprehension:\",[i for i in range(1,11) if i%2 != 0])"
   ]
  },
  {
   "cell_type": "code",
   "execution_count": 13,
   "id": "65f4df05-8265-476a-a116-0c6f9727a41a",
   "metadata": {},
   "outputs": [
    {
     "name": "stdout",
     "output_type": "stream",
     "text": [
      "Positive integer list: [1, 2, 3, 4, 5, 6]\n",
      "Negative integer list: [-1, -2, -3, -4, -5]\n"
     ]
    }
   ],
   "source": [
    "\"\"\"\n",
    "Sort a list of integers into positive and negative integers lists.\n",
    "        [1,2,3,4,5,6,-1,-2,-3,-4,-5,0]\n",
    "\"\"\"\n",
    "l = [1,2,3,4,5,6,-1,-2,-3,-4,-5,0]\n",
    "print(\"Positive integer list:\",[a for a in l if a > 0])\n",
    "print(\"Negative integer list:\",[element for element in l if element < 0])"
   ]
  }
 ],
 "metadata": {
  "kernelspec": {
   "display_name": "Python 3 (ipykernel)",
   "language": "python",
   "name": "python3"
  },
  "language_info": {
   "codemirror_mode": {
    "name": "ipython",
    "version": 3
   },
   "file_extension": ".py",
   "mimetype": "text/x-python",
   "name": "python",
   "nbconvert_exporter": "python",
   "pygments_lexer": "ipython3",
   "version": "3.10.8"
  }
 },
 "nbformat": 4,
 "nbformat_minor": 5
}
