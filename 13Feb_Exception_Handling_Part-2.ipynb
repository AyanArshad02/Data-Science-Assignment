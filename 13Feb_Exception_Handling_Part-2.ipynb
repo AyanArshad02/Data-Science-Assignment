{
 "cells": [
  {
   "cell_type": "code",
   "execution_count": null,
   "id": "e128c356-5d49-4983-b575-d2d69f01c59a",
   "metadata": {},
   "outputs": [],
   "source": [
    "\"\"\"\n",
    "Q1. Explain why we have to use the Exception class while creating a Custom Exception.\n",
    "Note: Here Exception class refers to the base class for all the exceptions.\n",
    "\"\"\"\n",
    "# ANS: while creating exception class we use exception class so that custom class will inherit all the properties of exception class"
   ]
  },
  {
   "cell_type": "code",
   "execution_count": 1,
   "id": "cf335b10-9e10-4f03-af93-66ac5eeae160",
   "metadata": {},
   "outputs": [
    {
     "name": "stdout",
     "output_type": "stream",
     "text": [
      "Custom exception caught: This is a custom exception\n"
     ]
    }
   ],
   "source": [
    "\"\"\"\n",
    "Q2. Write a python program to print Python Exception Hierarchy.\n",
    "\"\"\"\n",
    "class CustomError(Exception):\n",
    "    def __init__(self, message):\n",
    "        self.message = message\n",
    "\n",
    "try:\n",
    "    # Some code that might raise a custom exception\n",
    "    raise CustomError(\"This is a custom exception\")\n",
    "except CustomError as ce:\n",
    "    print(\"Custom exception caught:\", ce.message)\n",
    "except Exception as e:\n",
    "    print(\"Generic exception caught:\", e)\n"
   ]
  },
  {
   "cell_type": "code",
   "execution_count": 15,
   "id": "70387f0a-e3d5-4f89-972a-6baf9bfe25d7",
   "metadata": {},
   "outputs": [
    {
     "name": "stdout",
     "output_type": "stream",
     "text": [
      "ZeroDivisionError: division by zero\n"
     ]
    }
   ],
   "source": [
    "\"\"\"\n",
    "Q3. What errors are defined in the ArithmeticError class? Explain any two with an example.\n",
    "\"\"\"\n",
    "# ArithmeticError is simply an error that occurs during numeric calculations.\n",
    "# ArithmeticError includes:\n",
    "# 1. OverFlowError\n",
    "# 2. ZeroDivisionError\n",
    "# 3. FloatingPointError\n",
    "try:\n",
    "    a = 1/0\n",
    "except ZeroDivisionError as e:\n",
    "    print(\"ZeroDivisionError:\",e)\n",
    "except AritimeticError as e:\n",
    "    print(\"Caught Arithmethic Error:\",e)\n",
    "\n",
    "  "
   ]
  },
  {
   "cell_type": "code",
   "execution_count": 22,
   "id": "e8a829cb-5f15-4483-8d3b-5514193235d5",
   "metadata": {},
   "outputs": [
    {
     "name": "stdout",
     "output_type": "stream",
     "text": [
      "IndexError: list index out of range\n",
      "KeyError: 'c'\n"
     ]
    }
   ],
   "source": [
    "\"\"\"\n",
    "Q4. Why LookupError class is used? Explain with an example KeyError and IndexError.\n",
    "\"\"\"\n",
    "# LookupError Exception is the Base class for errors raised when something can't be found.\n",
    "\n",
    "l = [i for i in range(1,4)]\n",
    "try:\n",
    "    print(l[6])\n",
    "except IndexError as e:\n",
    "    print(\"IndexError:\",e)\n",
    "    \n",
    "d = {\"a\":1,\"b\":2}\n",
    "try:\n",
    "    print(d[\"c\"])\n",
    "except KeyError as e:\n",
    "    print(\"KeyError:\",e)"
   ]
  },
  {
   "cell_type": "code",
   "execution_count": 23,
   "id": "59ccf16f-2f8a-47c7-88fe-12eee3cbd95a",
   "metadata": {},
   "outputs": [
    {
     "name": "stdout",
     "output_type": "stream",
     "text": [
      "No module named 'ayan'\n"
     ]
    }
   ],
   "source": [
    "\"\"\"\n",
    "Q5. Explain ImportError. What is ModuleNotFoundError?\n",
    "\"\"\"\n",
    "# ImportError occurs when the Python program tries to import module which does not exist\n",
    "try:\n",
    "    import ayan\n",
    "except ModuleNotFoundError as e:\n",
    "    print(e)"
   ]
  },
  {
   "cell_type": "code",
   "execution_count": null,
   "id": "ca324c6d-514a-4047-bc52-b8de6439bd58",
   "metadata": {},
   "outputs": [],
   "source": [
    "\"\"\"\n",
    "Q6. List down some best practices for exception handling in python.\n",
    "\"\"\"\n",
    "# 1. Use try except and finally block to handle exception\n",
    "# 2. Raise custom exception when required\n",
    "# 3. Always clean up resources in finally block\n",
    "# 4. Avoid"
   ]
  }
 ],
 "metadata": {
  "kernelspec": {
   "display_name": "Python 3 (ipykernel)",
   "language": "python",
   "name": "python3"
  },
  "language_info": {
   "codemirror_mode": {
    "name": "ipython",
    "version": 3
   },
   "file_extension": ".py",
   "mimetype": "text/x-python",
   "name": "python",
   "nbconvert_exporter": "python",
   "pygments_lexer": "ipython3",
   "version": "3.10.8"
  }
 },
 "nbformat": 4,
 "nbformat_minor": 5
}
